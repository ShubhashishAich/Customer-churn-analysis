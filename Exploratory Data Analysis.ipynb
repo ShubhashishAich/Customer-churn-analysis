{
 "cells": [
  {
   "cell_type": "markdown",
   "id": "8a898ef1-2eca-4481-842d-2813c2bccc03",
   "metadata": {},
   "source": [
    "# EDA"
   ]
  },
  {
   "cell_type": "code",
   "execution_count": 177,
   "id": "1d3ff669-cd1c-4060-af55-8a33c1c37a27",
   "metadata": {},
   "outputs": [],
   "source": [
    "#Regular EDA and plotting libraries\n",
    "import pandas as pd\n",
    "import numpy as np\n",
    "import matplotlib.pyplot as plt\n",
    "import seaborn as sns"
   ]
  },
  {
   "cell_type": "code",
   "execution_count": 178,
   "id": "e0725a0f-3efa-41d2-b9b3-e590b9af1852",
   "metadata": {},
   "outputs": [],
   "source": [
    "%matplotlib inline\n",
    "sns.set_style('darkgrid')"
   ]
  },
  {
   "cell_type": "code",
   "execution_count": 179,
   "id": "a983f468-aafe-4e7a-9a9b-7ab10ac51f6a",
   "metadata": {},
   "outputs": [],
   "source": [
    "data_df = pd.read_csv(\"TelcoCustomerChurn.csv\")"
   ]
  },
  {
   "cell_type": "code",
   "execution_count": 180,
   "id": "bef9e3e6-f3cf-4b54-8027-c505abd9ab82",
   "metadata": {},
   "outputs": [
    {
     "data": {
      "text/html": [
       "<div>\n",
       "<style scoped>\n",
       "    .dataframe tbody tr th:only-of-type {\n",
       "        vertical-align: middle;\n",
       "    }\n",
       "\n",
       "    .dataframe tbody tr th {\n",
       "        vertical-align: top;\n",
       "    }\n",
       "\n",
       "    .dataframe thead th {\n",
       "        text-align: right;\n",
       "    }\n",
       "</style>\n",
       "<table border=\"1\" class=\"dataframe\">\n",
       "  <thead>\n",
       "    <tr style=\"text-align: right;\">\n",
       "      <th></th>\n",
       "      <th>customerID</th>\n",
       "      <th>gender</th>\n",
       "      <th>SeniorCitizen</th>\n",
       "      <th>Partner</th>\n",
       "      <th>Dependents</th>\n",
       "      <th>tenure</th>\n",
       "      <th>PhoneService</th>\n",
       "      <th>MultipleLines</th>\n",
       "      <th>InternetService</th>\n",
       "      <th>OnlineSecurity</th>\n",
       "      <th>OnlineBackup</th>\n",
       "      <th>DeviceProtection</th>\n",
       "      <th>TechSupport</th>\n",
       "      <th>StreamingTV</th>\n",
       "      <th>StreamingMovies</th>\n",
       "      <th>Contract</th>\n",
       "      <th>PaperlessBilling</th>\n",
       "      <th>PaymentMethod</th>\n",
       "      <th>MonthlyCharges</th>\n",
       "      <th>TotalCharges</th>\n",
       "      <th>Churn</th>\n",
       "    </tr>\n",
       "  </thead>\n",
       "  <tbody>\n",
       "    <tr>\n",
       "      <th>0</th>\n",
       "      <td>7590-VHVEG</td>\n",
       "      <td>Female</td>\n",
       "      <td>0</td>\n",
       "      <td>Yes</td>\n",
       "      <td>No</td>\n",
       "      <td>1</td>\n",
       "      <td>No</td>\n",
       "      <td>No phone service</td>\n",
       "      <td>DSL</td>\n",
       "      <td>No</td>\n",
       "      <td>Yes</td>\n",
       "      <td>No</td>\n",
       "      <td>No</td>\n",
       "      <td>No</td>\n",
       "      <td>No</td>\n",
       "      <td>Month-to-month</td>\n",
       "      <td>Yes</td>\n",
       "      <td>Electronic check</td>\n",
       "      <td>29.85</td>\n",
       "      <td>29.85</td>\n",
       "      <td>No</td>\n",
       "    </tr>\n",
       "    <tr>\n",
       "      <th>1</th>\n",
       "      <td>5575-GNVDE</td>\n",
       "      <td>Male</td>\n",
       "      <td>0</td>\n",
       "      <td>No</td>\n",
       "      <td>No</td>\n",
       "      <td>34</td>\n",
       "      <td>Yes</td>\n",
       "      <td>No</td>\n",
       "      <td>DSL</td>\n",
       "      <td>Yes</td>\n",
       "      <td>No</td>\n",
       "      <td>Yes</td>\n",
       "      <td>No</td>\n",
       "      <td>No</td>\n",
       "      <td>No</td>\n",
       "      <td>One year</td>\n",
       "      <td>No</td>\n",
       "      <td>Mailed check</td>\n",
       "      <td>56.95</td>\n",
       "      <td>1889.5</td>\n",
       "      <td>No</td>\n",
       "    </tr>\n",
       "    <tr>\n",
       "      <th>2</th>\n",
       "      <td>3668-QPYBK</td>\n",
       "      <td>Male</td>\n",
       "      <td>0</td>\n",
       "      <td>No</td>\n",
       "      <td>No</td>\n",
       "      <td>2</td>\n",
       "      <td>Yes</td>\n",
       "      <td>No</td>\n",
       "      <td>DSL</td>\n",
       "      <td>Yes</td>\n",
       "      <td>Yes</td>\n",
       "      <td>No</td>\n",
       "      <td>No</td>\n",
       "      <td>No</td>\n",
       "      <td>No</td>\n",
       "      <td>Month-to-month</td>\n",
       "      <td>Yes</td>\n",
       "      <td>Mailed check</td>\n",
       "      <td>53.85</td>\n",
       "      <td>108.15</td>\n",
       "      <td>Yes</td>\n",
       "    </tr>\n",
       "    <tr>\n",
       "      <th>3</th>\n",
       "      <td>7795-CFOCW</td>\n",
       "      <td>Male</td>\n",
       "      <td>0</td>\n",
       "      <td>No</td>\n",
       "      <td>No</td>\n",
       "      <td>45</td>\n",
       "      <td>No</td>\n",
       "      <td>No phone service</td>\n",
       "      <td>DSL</td>\n",
       "      <td>Yes</td>\n",
       "      <td>No</td>\n",
       "      <td>Yes</td>\n",
       "      <td>Yes</td>\n",
       "      <td>No</td>\n",
       "      <td>No</td>\n",
       "      <td>One year</td>\n",
       "      <td>No</td>\n",
       "      <td>Bank transfer (automatic)</td>\n",
       "      <td>42.30</td>\n",
       "      <td>1840.75</td>\n",
       "      <td>No</td>\n",
       "    </tr>\n",
       "    <tr>\n",
       "      <th>4</th>\n",
       "      <td>9237-HQITU</td>\n",
       "      <td>Female</td>\n",
       "      <td>0</td>\n",
       "      <td>No</td>\n",
       "      <td>No</td>\n",
       "      <td>2</td>\n",
       "      <td>Yes</td>\n",
       "      <td>No</td>\n",
       "      <td>Fiber optic</td>\n",
       "      <td>No</td>\n",
       "      <td>No</td>\n",
       "      <td>No</td>\n",
       "      <td>No</td>\n",
       "      <td>No</td>\n",
       "      <td>No</td>\n",
       "      <td>Month-to-month</td>\n",
       "      <td>Yes</td>\n",
       "      <td>Electronic check</td>\n",
       "      <td>70.70</td>\n",
       "      <td>151.65</td>\n",
       "      <td>Yes</td>\n",
       "    </tr>\n",
       "    <tr>\n",
       "      <th>...</th>\n",
       "      <td>...</td>\n",
       "      <td>...</td>\n",
       "      <td>...</td>\n",
       "      <td>...</td>\n",
       "      <td>...</td>\n",
       "      <td>...</td>\n",
       "      <td>...</td>\n",
       "      <td>...</td>\n",
       "      <td>...</td>\n",
       "      <td>...</td>\n",
       "      <td>...</td>\n",
       "      <td>...</td>\n",
       "      <td>...</td>\n",
       "      <td>...</td>\n",
       "      <td>...</td>\n",
       "      <td>...</td>\n",
       "      <td>...</td>\n",
       "      <td>...</td>\n",
       "      <td>...</td>\n",
       "      <td>...</td>\n",
       "      <td>...</td>\n",
       "    </tr>\n",
       "    <tr>\n",
       "      <th>7038</th>\n",
       "      <td>6840-RESVB</td>\n",
       "      <td>Male</td>\n",
       "      <td>0</td>\n",
       "      <td>Yes</td>\n",
       "      <td>Yes</td>\n",
       "      <td>24</td>\n",
       "      <td>Yes</td>\n",
       "      <td>Yes</td>\n",
       "      <td>DSL</td>\n",
       "      <td>Yes</td>\n",
       "      <td>No</td>\n",
       "      <td>Yes</td>\n",
       "      <td>Yes</td>\n",
       "      <td>Yes</td>\n",
       "      <td>Yes</td>\n",
       "      <td>One year</td>\n",
       "      <td>Yes</td>\n",
       "      <td>Mailed check</td>\n",
       "      <td>84.80</td>\n",
       "      <td>1990.5</td>\n",
       "      <td>No</td>\n",
       "    </tr>\n",
       "    <tr>\n",
       "      <th>7039</th>\n",
       "      <td>2234-XADUH</td>\n",
       "      <td>Female</td>\n",
       "      <td>0</td>\n",
       "      <td>Yes</td>\n",
       "      <td>Yes</td>\n",
       "      <td>72</td>\n",
       "      <td>Yes</td>\n",
       "      <td>Yes</td>\n",
       "      <td>Fiber optic</td>\n",
       "      <td>No</td>\n",
       "      <td>Yes</td>\n",
       "      <td>Yes</td>\n",
       "      <td>No</td>\n",
       "      <td>Yes</td>\n",
       "      <td>Yes</td>\n",
       "      <td>One year</td>\n",
       "      <td>Yes</td>\n",
       "      <td>Credit card (automatic)</td>\n",
       "      <td>103.20</td>\n",
       "      <td>7362.9</td>\n",
       "      <td>No</td>\n",
       "    </tr>\n",
       "    <tr>\n",
       "      <th>7040</th>\n",
       "      <td>4801-JZAZL</td>\n",
       "      <td>Female</td>\n",
       "      <td>0</td>\n",
       "      <td>Yes</td>\n",
       "      <td>Yes</td>\n",
       "      <td>11</td>\n",
       "      <td>No</td>\n",
       "      <td>No phone service</td>\n",
       "      <td>DSL</td>\n",
       "      <td>Yes</td>\n",
       "      <td>No</td>\n",
       "      <td>No</td>\n",
       "      <td>No</td>\n",
       "      <td>No</td>\n",
       "      <td>No</td>\n",
       "      <td>Month-to-month</td>\n",
       "      <td>Yes</td>\n",
       "      <td>Electronic check</td>\n",
       "      <td>29.60</td>\n",
       "      <td>346.45</td>\n",
       "      <td>No</td>\n",
       "    </tr>\n",
       "    <tr>\n",
       "      <th>7041</th>\n",
       "      <td>8361-LTMKD</td>\n",
       "      <td>Male</td>\n",
       "      <td>1</td>\n",
       "      <td>Yes</td>\n",
       "      <td>No</td>\n",
       "      <td>4</td>\n",
       "      <td>Yes</td>\n",
       "      <td>Yes</td>\n",
       "      <td>Fiber optic</td>\n",
       "      <td>No</td>\n",
       "      <td>No</td>\n",
       "      <td>No</td>\n",
       "      <td>No</td>\n",
       "      <td>No</td>\n",
       "      <td>No</td>\n",
       "      <td>Month-to-month</td>\n",
       "      <td>Yes</td>\n",
       "      <td>Mailed check</td>\n",
       "      <td>74.40</td>\n",
       "      <td>306.6</td>\n",
       "      <td>Yes</td>\n",
       "    </tr>\n",
       "    <tr>\n",
       "      <th>7042</th>\n",
       "      <td>3186-AJIEK</td>\n",
       "      <td>Male</td>\n",
       "      <td>0</td>\n",
       "      <td>No</td>\n",
       "      <td>No</td>\n",
       "      <td>66</td>\n",
       "      <td>Yes</td>\n",
       "      <td>No</td>\n",
       "      <td>Fiber optic</td>\n",
       "      <td>Yes</td>\n",
       "      <td>No</td>\n",
       "      <td>Yes</td>\n",
       "      <td>Yes</td>\n",
       "      <td>Yes</td>\n",
       "      <td>Yes</td>\n",
       "      <td>Two year</td>\n",
       "      <td>Yes</td>\n",
       "      <td>Bank transfer (automatic)</td>\n",
       "      <td>105.65</td>\n",
       "      <td>6844.5</td>\n",
       "      <td>No</td>\n",
       "    </tr>\n",
       "  </tbody>\n",
       "</table>\n",
       "<p>7043 rows × 21 columns</p>\n",
       "</div>"
      ],
      "text/plain": [
       "      customerID  gender  SeniorCitizen Partner Dependents  tenure  \\\n",
       "0     7590-VHVEG  Female              0     Yes         No       1   \n",
       "1     5575-GNVDE    Male              0      No         No      34   \n",
       "2     3668-QPYBK    Male              0      No         No       2   \n",
       "3     7795-CFOCW    Male              0      No         No      45   \n",
       "4     9237-HQITU  Female              0      No         No       2   \n",
       "...          ...     ...            ...     ...        ...     ...   \n",
       "7038  6840-RESVB    Male              0     Yes        Yes      24   \n",
       "7039  2234-XADUH  Female              0     Yes        Yes      72   \n",
       "7040  4801-JZAZL  Female              0     Yes        Yes      11   \n",
       "7041  8361-LTMKD    Male              1     Yes         No       4   \n",
       "7042  3186-AJIEK    Male              0      No         No      66   \n",
       "\n",
       "     PhoneService     MultipleLines InternetService OnlineSecurity  \\\n",
       "0              No  No phone service             DSL             No   \n",
       "1             Yes                No             DSL            Yes   \n",
       "2             Yes                No             DSL            Yes   \n",
       "3              No  No phone service             DSL            Yes   \n",
       "4             Yes                No     Fiber optic             No   \n",
       "...           ...               ...             ...            ...   \n",
       "7038          Yes               Yes             DSL            Yes   \n",
       "7039          Yes               Yes     Fiber optic             No   \n",
       "7040           No  No phone service             DSL            Yes   \n",
       "7041          Yes               Yes     Fiber optic             No   \n",
       "7042          Yes                No     Fiber optic            Yes   \n",
       "\n",
       "     OnlineBackup DeviceProtection TechSupport StreamingTV StreamingMovies  \\\n",
       "0             Yes               No          No          No              No   \n",
       "1              No              Yes          No          No              No   \n",
       "2             Yes               No          No          No              No   \n",
       "3              No              Yes         Yes          No              No   \n",
       "4              No               No          No          No              No   \n",
       "...           ...              ...         ...         ...             ...   \n",
       "7038           No              Yes         Yes         Yes             Yes   \n",
       "7039          Yes              Yes          No         Yes             Yes   \n",
       "7040           No               No          No          No              No   \n",
       "7041           No               No          No          No              No   \n",
       "7042           No              Yes         Yes         Yes             Yes   \n",
       "\n",
       "            Contract PaperlessBilling              PaymentMethod  \\\n",
       "0     Month-to-month              Yes           Electronic check   \n",
       "1           One year               No               Mailed check   \n",
       "2     Month-to-month              Yes               Mailed check   \n",
       "3           One year               No  Bank transfer (automatic)   \n",
       "4     Month-to-month              Yes           Electronic check   \n",
       "...              ...              ...                        ...   \n",
       "7038        One year              Yes               Mailed check   \n",
       "7039        One year              Yes    Credit card (automatic)   \n",
       "7040  Month-to-month              Yes           Electronic check   \n",
       "7041  Month-to-month              Yes               Mailed check   \n",
       "7042        Two year              Yes  Bank transfer (automatic)   \n",
       "\n",
       "      MonthlyCharges TotalCharges Churn  \n",
       "0              29.85        29.85    No  \n",
       "1              56.95       1889.5    No  \n",
       "2              53.85       108.15   Yes  \n",
       "3              42.30      1840.75    No  \n",
       "4              70.70       151.65   Yes  \n",
       "...              ...          ...   ...  \n",
       "7038           84.80       1990.5    No  \n",
       "7039          103.20       7362.9    No  \n",
       "7040           29.60       346.45    No  \n",
       "7041           74.40        306.6   Yes  \n",
       "7042          105.65       6844.5    No  \n",
       "\n",
       "[7043 rows x 21 columns]"
      ]
     },
     "execution_count": 180,
     "metadata": {},
     "output_type": "execute_result"
    }
   ],
   "source": [
    "pd.set_option('display.max_columns', None) \n",
    "data_df"
   ]
  },
  {
   "cell_type": "code",
   "execution_count": 181,
   "id": "cc0a6ec6-2e50-434a-9085-a1fb7af6e9cf",
   "metadata": {},
   "outputs": [
    {
     "data": {
      "text/plain": [
       "customerID          0\n",
       "gender              0\n",
       "SeniorCitizen       0\n",
       "Partner             0\n",
       "Dependents          0\n",
       "tenure              0\n",
       "PhoneService        0\n",
       "MultipleLines       0\n",
       "InternetService     0\n",
       "OnlineSecurity      0\n",
       "OnlineBackup        0\n",
       "DeviceProtection    0\n",
       "TechSupport         0\n",
       "StreamingTV         0\n",
       "StreamingMovies     0\n",
       "Contract            0\n",
       "PaperlessBilling    0\n",
       "PaymentMethod       0\n",
       "MonthlyCharges      0\n",
       "TotalCharges        0\n",
       "Churn               0\n",
       "dtype: int64"
      ]
     },
     "execution_count": 181,
     "metadata": {},
     "output_type": "execute_result"
    }
   ],
   "source": [
    "data_df.isna().sum()"
   ]
  },
  {
   "cell_type": "code",
   "execution_count": 182,
   "id": "f52df9c8-0d45-43da-8053-a0d9b938f333",
   "metadata": {},
   "outputs": [
    {
     "data": {
      "text/plain": [
       "(7043, 21)"
      ]
     },
     "execution_count": 182,
     "metadata": {},
     "output_type": "execute_result"
    }
   ],
   "source": [
    "data_df.shape"
   ]
  },
  {
   "cell_type": "code",
   "execution_count": 183,
   "id": "7530a20b-abbf-4dae-b44a-43fab3581122",
   "metadata": {},
   "outputs": [
    {
     "data": {
      "text/plain": [
       "customerID           object\n",
       "gender               object\n",
       "SeniorCitizen         int64\n",
       "Partner              object\n",
       "Dependents           object\n",
       "tenure                int64\n",
       "PhoneService         object\n",
       "MultipleLines        object\n",
       "InternetService      object\n",
       "OnlineSecurity       object\n",
       "OnlineBackup         object\n",
       "DeviceProtection     object\n",
       "TechSupport          object\n",
       "StreamingTV          object\n",
       "StreamingMovies      object\n",
       "Contract             object\n",
       "PaperlessBilling     object\n",
       "PaymentMethod        object\n",
       "MonthlyCharges      float64\n",
       "TotalCharges         object\n",
       "Churn                object\n",
       "dtype: object"
      ]
     },
     "execution_count": 183,
     "metadata": {},
     "output_type": "execute_result"
    }
   ],
   "source": [
    "data_df.dtypes"
   ]
  },
  {
   "cell_type": "markdown",
   "id": "d1e6c47c-ef76-4dd1-98d3-653c7c6ee272",
   "metadata": {},
   "source": [
    "## Analysis"
   ]
  },
  {
   "cell_type": "markdown",
   "id": "808fb64e-e20e-4c1f-b369-9aad3590dc15",
   "metadata": {},
   "source": [
    "#### CustomerId"
   ]
  },
  {
   "cell_type": "markdown",
   "id": "7b5a95bd-039f-4c87-8ed9-f419e57553a6",
   "metadata": {},
   "source": [
    "We do not need customer ID in our analysis as it does not help us predict whether the cutomer will churn or not also, it increases the dimensionality."
   ]
  },
  {
   "cell_type": "code",
   "execution_count": 184,
   "id": "55b2b4f1-0e57-496f-94fd-0a67281ba2fa",
   "metadata": {},
   "outputs": [
    {
     "data": {
      "text/plain": [
       "(7043, 21)"
      ]
     },
     "execution_count": 184,
     "metadata": {},
     "output_type": "execute_result"
    }
   ],
   "source": [
    "data_df.shape"
   ]
  },
  {
   "cell_type": "markdown",
   "id": "48bd50cb-33df-4786-9c1d-14af67ecb765",
   "metadata": {},
   "source": [
    "#### gender"
   ]
  },
  {
   "cell_type": "code",
   "execution_count": 185,
   "id": "52cb4a4c-2b1e-4a6c-b78e-0d0a1ad94a80",
   "metadata": {},
   "outputs": [
    {
     "data": {
      "text/plain": [
       "0    Female\n",
       "1      Male\n",
       "2      Male\n",
       "3      Male\n",
       "4    Female\n",
       "Name: gender, dtype: object"
      ]
     },
     "execution_count": 185,
     "metadata": {},
     "output_type": "execute_result"
    }
   ],
   "source": [
    "data_df[\"gender\"].head()"
   ]
  },
  {
   "cell_type": "code",
   "execution_count": 186,
   "id": "1738d5fb-1c82-4a2d-ba8f-456f25a8792f",
   "metadata": {},
   "outputs": [
    {
     "data": {
      "text/plain": [
       "dtype('O')"
      ]
     },
     "execution_count": 186,
     "metadata": {},
     "output_type": "execute_result"
    }
   ],
   "source": [
    "data_df[\"gender\"].dtype"
   ]
  },
  {
   "cell_type": "code",
   "execution_count": 187,
   "id": "4c7822b0-80cc-47e8-a1ed-b280b11867e4",
   "metadata": {},
   "outputs": [
    {
     "data": {
      "text/plain": [
       "gender\n",
       "Male      3555\n",
       "Female    3488\n",
       "Name: count, dtype: int64"
      ]
     },
     "execution_count": 187,
     "metadata": {},
     "output_type": "execute_result"
    }
   ],
   "source": [
    "data_df[\"gender\"].value_counts()"
   ]
  },
  {
   "cell_type": "code",
   "execution_count": 188,
   "id": "fb2471b3-140e-49fa-b247-c58cfb4bc963",
   "metadata": {},
   "outputs": [
    {
     "data": {
      "text/plain": [
       "(7043,)"
      ]
     },
     "execution_count": 188,
     "metadata": {},
     "output_type": "execute_result"
    }
   ],
   "source": [
    "data_df[\"gender\"].shape"
   ]
  },
  {
   "cell_type": "code",
   "execution_count": 189,
   "id": "52efb7bd-715f-4485-917a-fdfb72057227",
   "metadata": {},
   "outputs": [
    {
     "data": {
      "text/plain": [
       "0"
      ]
     },
     "execution_count": 189,
     "metadata": {},
     "output_type": "execute_result"
    }
   ],
   "source": [
    "data_df[\"gender\"].isna().sum()"
   ]
  },
  {
   "cell_type": "markdown",
   "id": "13e6a040-ebd6-4851-ba19-5360761d082c",
   "metadata": {},
   "source": [
    "The gender column does not contain any missing values."
   ]
  },
  {
   "cell_type": "markdown",
   "id": "ecb0769e-9da2-402a-be0c-bbe3618f960d",
   "metadata": {},
   "source": [
    "##### Comparing the gender column with the Churn column"
   ]
  },
  {
   "cell_type": "markdown",
   "id": "47233c9e-483f-4258-abfc-004ad3756648",
   "metadata": {},
   "source": [
    "A stacked bar graph would be an effective way to visually compare and analyze both columns."
   ]
  },
  {
   "cell_type": "markdown",
   "id": "82b9044a-de06-4c76-8a2f-c3587141f0af",
   "metadata": {},
   "source": [
    "Function to plot stacked bar graph"
   ]
  },
  {
   "cell_type": "code",
   "execution_count": 376,
   "id": "5201b704-d5ad-493f-a084-1918015d09d6",
   "metadata": {},
   "outputs": [],
   "source": [
    "def stacked_bar_plot(df, group, target):\n",
    "    \"\"\"\n",
    "    Generate a stacked bar plot to visualize the relationship between two categorical variables.\n",
    "\n",
    "    Parameters:\n",
    "    - df (pd.DataFrame): The input DataFrame containing the data.\n",
    "    - group (str): The column name representing the grouping variable for the x-axis.\n",
    "    - target (str): The column name representing the target variable for the stacked bars.\n",
    "\n",
    "    Returns:\n",
    "    None\n",
    "    \"\"\"\n",
    "    fig, axes = plt.subplots(figsize = (5,4))\n",
    "    alt_df = (df.groupby([group, target]).size()/df.groupby(group)[target].count()).reset_index().pivot(columns=target, index=group, values=0)\n",
    "    alt_df.plot(kind='bar', stacked=True, ax = axes, color = [\"teal\", \"tomato\"])\n",
    "    axes.xaxis.set_tick_params(rotation=0)\n",
    "    axes.set_xlabel(group)\n",
    "    axes.set_ylabel(\"Churn Rate\")    "
   ]
  },
  {
   "cell_type": "code",
   "execution_count": 359,
   "id": "7e038338-1f94-455d-b2cb-3d5171bfd2b4",
   "metadata": {},
   "outputs": [
    {
     "data": {
      "image/png": "[encoded data removed]",
      "text/plain": [
       "<Figure size 500x400 with 1 Axes>"
      ]
     },
     "metadata": {},
     "output_type": "display_data"
    }
   ],
   "source": [
    "stacked_bar_plot(data_df, \"gender\", \"Churn\")"
   ]
  },
  {
   "cell_type": "markdown",
   "id": "a6f700b7-179e-4659-9db2-1e83b1fb5b71",
   "metadata": {},
   "source": [
    "From the above plot, we can conclude that gender does not provide predictive insights into customer churn."
   ]
  },
  {
   "cell_type": "markdown",
   "id": "639d0b23-773d-4790-ac4e-5c18d8a67e1c",
   "metadata": {},
   "source": [
    "To simplify the understanding of gender, we will convert its data type from object to integer."
   ]
  },
  {
   "cell_type": "code",
   "execution_count": 192,
   "id": "3bd3e7e8-c619-4143-b008-02babd9e0a61",
   "metadata": {},
   "outputs": [
    {
     "data": {
      "text/plain": [
       "0    Female\n",
       "1      Male\n",
       "2      Male\n",
       "3      Male\n",
       "4    Female\n",
       "Name: gender, dtype: object"
      ]
     },
     "execution_count": 192,
     "metadata": {},
     "output_type": "execute_result"
    }
   ],
   "source": [
    "data_df[\"gender\"].head()"
   ]
  },
  {
   "cell_type": "code",
   "execution_count": 193,
   "id": "8e1ad198-5faa-471e-b2f5-0446cdcc6131",
   "metadata": {},
   "outputs": [
    {
     "data": {
      "text/plain": [
       "dtype('O')"
      ]
     },
     "execution_count": 193,
     "metadata": {},
     "output_type": "execute_result"
    }
   ],
   "source": [
    "data_df[\"gender\"].dtype"
   ]
  },
  {
   "cell_type": "code",
   "execution_count": 194,
   "id": "df88741a-43b5-400a-bec9-a8ac9ab8d2a7",
   "metadata": {},
   "outputs": [
    {
     "data": {
      "text/plain": [
       "gender\n",
       "Male      3555\n",
       "Female    3488\n",
       "Name: count, dtype: int64"
      ]
     },
     "execution_count": 194,
     "metadata": {},
     "output_type": "execute_result"
    }
   ],
   "source": [
    "data_df[\"gender\"].value_counts()"
   ]
  },
  {
   "cell_type": "code",
   "execution_count": 195,
   "id": "6c0394bb-151d-4d5d-9a7f-1d7a36f8eb1a",
   "metadata": {},
   "outputs": [
    {
     "data": {
      "text/plain": [
       "(7043,)"
      ]
     },
     "execution_count": 195,
     "metadata": {},
     "output_type": "execute_result"
    }
   ],
   "source": [
    "data_df[\"gender\"].shape"
   ]
  },
  {
   "cell_type": "code",
   "execution_count": 196,
   "id": "2aee9b84-53fc-4eed-809f-733f9a91dd41",
   "metadata": {},
   "outputs": [
    {
     "data": {
      "text/plain": [
       "0"
      ]
     },
     "execution_count": 196,
     "metadata": {},
     "output_type": "execute_result"
    }
   ],
   "source": [
    "data_df[\"gender\"].isna().sum()"
   ]
  },
  {
   "cell_type": "markdown",
   "id": "07bfef5b-06aa-42eb-8020-5013227b1fc7",
   "metadata": {},
   "source": [
    "#### SeniorCitizen"
   ]
  },
  {
   "cell_type": "code",
   "execution_count": 197,
   "id": "05375e10-1d72-4dd9-a0d2-a9614bc23415",
   "metadata": {},
   "outputs": [
    {
     "data": {
      "text/plain": [
       "0    0\n",
       "1    0\n",
       "2    0\n",
       "3    0\n",
       "4    0\n",
       "Name: SeniorCitizen, dtype: int64"
      ]
     },
     "execution_count": 197,
     "metadata": {},
     "output_type": "execute_result"
    }
   ],
   "source": [
    "data_df[\"SeniorCitizen\"].head()"
   ]
  },
  {
   "cell_type": "code",
   "execution_count": 198,
   "id": "e71f8d21-79f0-4094-a663-f883f238691e",
   "metadata": {},
   "outputs": [
    {
     "data": {
      "text/plain": [
       "dtype('int64')"
      ]
     },
     "execution_count": 198,
     "metadata": {},
     "output_type": "execute_result"
    }
   ],
   "source": [
    "data_df[\"SeniorCitizen\"].dtype"
   ]
  },
  {
   "cell_type": "code",
   "execution_count": 199,
   "id": "4c3a1e9f-d22e-4840-8847-27246a5550b1",
   "metadata": {},
   "outputs": [
    {
     "data": {
      "text/plain": [
       "SeniorCitizen\n",
       "0    5901\n",
       "1    1142\n",
       "Name: count, dtype: int64"
      ]
     },
     "execution_count": 199,
     "metadata": {},
     "output_type": "execute_result"
    }
   ],
   "source": [
    "data_df[\"SeniorCitizen\"].value_counts()"
   ]
  },
  {
   "cell_type": "code",
   "execution_count": 200,
   "id": "94fc004f-975b-4f5b-be6c-17e53c0bbe19",
   "metadata": {},
   "outputs": [
    {
     "data": {
      "text/plain": [
       "(7043,)"
      ]
     },
     "execution_count": 200,
     "metadata": {},
     "output_type": "execute_result"
    }
   ],
   "source": [
    "data_df[\"SeniorCitizen\"].shape"
   ]
  },
  {
   "cell_type": "code",
   "execution_count": 201,
   "id": "5921278c-6756-4ed8-b040-4877c2f5aca2",
   "metadata": {},
   "outputs": [
    {
     "data": {
      "text/plain": [
       "0"
      ]
     },
     "execution_count": 201,
     "metadata": {},
     "output_type": "execute_result"
    }
   ],
   "source": [
    "data_df[\"SeniorCitizen\"].isna().sum()"
   ]
  },
  {
   "cell_type": "markdown",
   "id": "f9064bbb-465d-409c-8e14-731584cdde73",
   "metadata": {},
   "source": [
    "The SeniorCitizen column does not contain any missing values."
   ]
  },
  {
   "cell_type": "markdown",
   "id": "99681c4d-c334-478e-91ea-888f12d2a056",
   "metadata": {},
   "source": [
    "##### Comparing the SeniorCitizen column with the Churn column"
   ]
  },
  {
   "cell_type": "code",
   "execution_count": 361,
   "id": "e322e63f-ae45-4dbb-a162-3b61fb10d2df",
   "metadata": {},
   "outputs": [
    {
     "data": {
      "image/png": "[encoded data removed]",
      "text/plain": [
       "<Figure size 500x400 with 1 Axes>"
      ]
     },
     "metadata": {},
     "output_type": "display_data"
    }
   ],
   "source": [
    "stacked_bar_plot(data_df, \"SeniorCitizen\", \"Churn\")"
   ]
  },
  {
   "cell_type": "markdown",
   "id": "145ecdba-617b-4d86-8658-d7e58416de26",
   "metadata": {},
   "source": [
    "From the above plot, we can observe that younger individuals are less likely to churn."
   ]
  },
  {
   "cell_type": "markdown",
   "id": "d083d4ac-a449-4c67-9b74-dbfe27c376cc",
   "metadata": {},
   "source": [
    "#### Partner"
   ]
  },
  {
   "cell_type": "code",
   "execution_count": 203,
   "id": "83d166c8-d3b7-4b3a-a0c3-ec6a0c9c5eea",
   "metadata": {},
   "outputs": [
    {
     "data": {
      "text/plain": [
       "0    Yes\n",
       "1     No\n",
       "2     No\n",
       "3     No\n",
       "4     No\n",
       "Name: Partner, dtype: object"
      ]
     },
     "execution_count": 203,
     "metadata": {},
     "output_type": "execute_result"
    }
   ],
   "source": [
    "data_df[\"Partner\"].head()"
   ]
  },
  {
   "cell_type": "code",
   "execution_count": 204,
   "id": "06cbcaef-c644-4f84-86f7-b8083f63e159",
   "metadata": {},
   "outputs": [
    {
     "data": {
      "text/plain": [
       "dtype('O')"
      ]
     },
     "execution_count": 204,
     "metadata": {},
     "output_type": "execute_result"
    }
   ],
   "source": [
    "data_df[\"Partner\"].dtype"
   ]
  },
  {
   "cell_type": "code",
   "execution_count": 205,
   "id": "5b433076-8934-424e-b1c2-998eff2081cc",
   "metadata": {},
   "outputs": [
    {
     "data": {
      "text/plain": [
       "Partner\n",
       "No     3641\n",
       "Yes    3402\n",
       "Name: count, dtype: int64"
      ]
     },
     "execution_count": 205,
     "metadata": {},
     "output_type": "execute_result"
    }
   ],
   "source": [
    "data_df[\"Partner\"].value_counts()"
   ]
  },
  {
   "cell_type": "code",
   "execution_count": 206,
   "id": "b7f188bb-177a-4c76-a03d-134f603162c4",
   "metadata": {},
   "outputs": [
    {
     "data": {
      "text/plain": [
       "(7043,)"
      ]
     },
     "execution_count": 206,
     "metadata": {},
     "output_type": "execute_result"
    }
   ],
   "source": [
    "data_df[\"Partner\"].shape"
   ]
  },
  {
   "cell_type": "code",
   "execution_count": 207,
   "id": "17ce5c55-d9b2-451a-9206-b3783d210558",
   "metadata": {},
   "outputs": [
    {
     "data": {
      "text/plain": [
       "0"
      ]
     },
     "execution_count": 207,
     "metadata": {},
     "output_type": "execute_result"
    }
   ],
   "source": [
    "data_df[\"Partner\"].isna().sum()"
   ]
  },
  {
   "cell_type": "markdown",
   "id": "eb6fe1f3-40bf-4532-bf0c-70e780ebd2bd",
   "metadata": {},
   "source": [
    "The Partner column does not contain any missing values."
   ]
  },
  {
   "cell_type": "markdown",
   "id": "f72532cc-158f-4921-83f9-70534f797bde",
   "metadata": {},
   "source": [
    "##### Comparing the Partner column with the Churn column"
   ]
  },
  {
   "cell_type": "markdown",
   "id": "8fde15cb-531e-44cb-b251-e48d3e67171d",
   "metadata": {},
   "source": [
    "A stacked bar graph would be an effective way to visually compare and analyze both columns."
   ]
  },
  {
   "cell_type": "code",
   "execution_count": 363,
   "id": "2c112de2-5491-4fae-8191-331398ed64fd",
   "metadata": {},
   "outputs": [
    {
     "data": {
      "image/png": "[encoded data removed]",
      "text/plain": [
       "<Figure size 500x400 with 1 Axes>"
      ]
     },
     "metadata": {},
     "output_type": "display_data"
    }
   ],
   "source": [
    "stacked_bar_plot(data_df, \"Partner\", \"Churn\")"
   ]
  },
  {
   "cell_type": "markdown",
   "id": "bd84dca0-c621-4d93-943c-98811b0e0a5f",
   "metadata": {},
   "source": [
    "From the above plot, we can observe that individuals with a partner are less likely to churn."
   ]
  },
  {
   "cell_type": "markdown",
   "id": "81b805f1-4df4-48bd-82c5-53e199e9607f",
   "metadata": {},
   "source": [
    "#### Dependents"
   ]
  },
  {
   "cell_type": "code",
   "execution_count": 209,
   "id": "28c5250d-1b26-4c6c-99a9-7e99d903d777",
   "metadata": {},
   "outputs": [
    {
     "data": {
      "text/plain": [
       "7038    Yes\n",
       "7039    Yes\n",
       "7040    Yes\n",
       "7041     No\n",
       "7042     No\n",
       "Name: Dependents, dtype: object"
      ]
     },
     "execution_count": 209,
     "metadata": {},
     "output_type": "execute_result"
    }
   ],
   "source": [
    "data_df[\"Dependents\"].tail()"
   ]
  },
  {
   "cell_type": "code",
   "execution_count": 210,
   "id": "1625fe66-f0e2-4350-a1d7-1cd61e85b5e8",
   "metadata": {},
   "outputs": [
    {
     "data": {
      "text/plain": [
       "dtype('O')"
      ]
     },
     "execution_count": 210,
     "metadata": {},
     "output_type": "execute_result"
    }
   ],
   "source": [
    "data_df[\"Dependents\"].dtype"
   ]
  },
  {
   "cell_type": "code",
   "execution_count": 211,
   "id": "c4b3085d-1d5a-40c1-816e-38c84e1c6a2f",
   "metadata": {},
   "outputs": [
    {
     "data": {
      "text/plain": [
       "Dependents\n",
       "No     4933\n",
       "Yes    2110\n",
       "Name: count, dtype: int64"
      ]
     },
     "execution_count": 211,
     "metadata": {},
     "output_type": "execute_result"
    }
   ],
   "source": [
    "data_df[\"Dependents\"].value_counts()"
   ]
  },
  {
   "cell_type": "code",
   "execution_count": 212,
   "id": "ba946070-f157-4090-a1aa-9f7562c69fc6",
   "metadata": {},
   "outputs": [
    {
     "data": {
      "text/plain": [
       "(7043,)"
      ]
     },
     "execution_count": 212,
     "metadata": {},
     "output_type": "execute_result"
    }
   ],
   "source": [
    "data_df[\"Dependents\"].shape"
   ]
  },
  {
   "cell_type": "code",
   "execution_count": 213,
   "id": "cba655a5-6adc-484c-ad09-22bbe43cae41",
   "metadata": {},
   "outputs": [
    {
     "data": {
      "text/plain": [
       "0"
      ]
     },
     "execution_count": 213,
     "metadata": {},
     "output_type": "execute_result"
    }
   ],
   "source": [
    "data_df[\"Dependents\"].isna().sum()"
   ]
  },
  {
   "cell_type": "markdown",
   "id": "12ab8276-7088-4d3f-8713-d77f10aa64fe",
   "metadata": {},
   "source": [
    "The Dependents column does not contain any missing values."
   ]
  },
  {
   "cell_type": "markdown",
   "id": "74cf24d0-e292-4ec6-b8e9-144faba09479",
   "metadata": {},
   "source": [
    "##### Comparing the Dependents column with the Churn column"
   ]
  },
  {
   "cell_type": "code",
   "execution_count": 365,
   "id": "06bcb2c9-95ac-40a0-aad0-cb25bc80d675",
   "metadata": {},
   "outputs": [
    {
     "data": {
      "image/png": "[encoded data removed]",
      "text/plain": [
       "<Figure size 500x400 with 1 Axes>"
      ]
     },
     "metadata": {},
     "output_type": "display_data"
    }
   ],
   "source": [
    "stacked_bar_plot(data_df, \"Dependents\", \"Churn\")"
   ]
  },
  {
   "cell_type": "markdown",
   "id": "3ea50687-ef50-461c-8d28-92820ea5e217",
   "metadata": {},
   "source": [
    "From the above plot, we can observe that individuals with Dependents are less likely to churn."
   ]
  },
  {
   "cell_type": "markdown",
   "id": "59a669f0-695a-4ec2-91b8-f76c89848258",
   "metadata": {},
   "source": [
    "##### Comparing the SeniorCitizen, partner, and Dependents columns with each other"
   ]
  },
  {
   "cell_type": "markdown",
   "id": "1c833021-a6e1-4058-859f-3aca148b0b7d",
   "metadata": {},
   "source": [
    "Function to plot a bar graph"
   ]
  },
  {
   "cell_type": "code",
   "execution_count": 215,
   "id": "0f3ab41d-74d1-46ad-ae26-14aa22ade561",
   "metadata": {},
   "outputs": [],
   "source": [
    "def bar_plot(x,total_count):\n",
    "    '''\n",
    "    Generate a stacked bar plot to visualize the distribution of two categories.\n",
    "\n",
    "    Parameters:\n",
    "    - x (pd.Series): A Pandas Series containing data for the two categories to be compared.\n",
    "    - total_count (int): The total count of observations or elements in the dataset.\n",
    "\n",
    "    Returns:\n",
    "    None\n",
    "\n",
    "    '''\n",
    "    \n",
    "    fig, axes = plt.subplots(figsize = (5,4))\n",
    "    plt.bar(x.index, x.values, color=[\"teal\", \"tomato\"],width = 0.4)\n",
    "    plt.xlabel('Churn')\n",
    "    plt.ylabel('Count')\n",
    "    plt.title(f'Total Count = {total_count}')\n",
    "    plt.show()"
   ]
  },
  {
   "cell_type": "code",
   "execution_count": 216,
   "id": "a11dd36b-db8d-4694-a5c6-4f8f02153671",
   "metadata": {},
   "outputs": [
    {
     "data": {
      "text/plain": [
       "(Churn\n",
       " No     1437\n",
       " Yes     229\n",
       " Name: count, dtype: int64,\n",
       " 1666)"
      ]
     },
     "execution_count": 216,
     "metadata": {},
     "output_type": "execute_result"
    }
   ],
   "source": [
    "mixed = data_df[(data_df.SeniorCitizen == 0) & (data_df.Partner == 'Yes') & (data_df.Dependents == 'Yes')].Churn.value_counts()\n",
    "total = data_df[(data_df.SeniorCitizen == 0) & (data_df.Partner == 'Yes') & (data_df.Dependents == 'Yes')].Churn.value_counts().sum()\n",
    "mixed,total"
   ]
  },
  {
   "cell_type": "code",
   "execution_count": 217,
   "id": "b7948b26-a677-4b01-ad54-4da03ba4ec04",
   "metadata": {},
   "outputs": [
    {
     "data": {
      "image/png": "[encoded data removed]",
      "text/plain": [
       "<Figure size 500x400 with 1 Axes>"
      ]
     },
     "metadata": {},
     "output_type": "display_data"
    }
   ],
   "source": [
    "bar_plot(mixed,total)"
   ]
  },
  {
   "cell_type": "markdown",
   "id": "0aaefe62-a1ce-4d58-9f21-88b42fde5d7f",
   "metadata": {},
   "source": [
    "From the above plot, we can infer that individuals who are young, have a partner, and have dependents are very unlikely to churn"
   ]
  },
  {
   "cell_type": "code",
   "execution_count": 218,
   "id": "0f75e382-dbb3-45c4-8d22-c83743a1218f",
   "metadata": {},
   "outputs": [
    {
     "data": {
      "text/plain": [
       "(Churn\n",
       " No     921\n",
       " Yes    242\n",
       " Name: count, dtype: int64,\n",
       " 1163)"
      ]
     },
     "execution_count": 218,
     "metadata": {},
     "output_type": "execute_result"
    }
   ],
   "source": [
    "mixed = data_df[(data_df.SeniorCitizen == 0) & (data_df.Partner == 'Yes') & (data_df.Dependents == 'No')].Churn.value_counts()\n",
    "total = data_df[(data_df.SeniorCitizen == 0) & (data_df.Partner == 'Yes') & (data_df.Dependents == 'No')].Churn.value_counts().sum()\n",
    "mixed,total"
   ]
  },
  {
   "cell_type": "code",
   "execution_count": 219,
   "id": "82550a75-bbe0-433f-9f1f-693bdf69de1a",
   "metadata": {},
   "outputs": [
    {
     "data": {
      "image/png": "[encoded data removed]",
      "text/plain": [
       "<Figure size 500x400 with 1 Axes>"
      ]
     },
     "metadata": {},
     "output_type": "display_data"
    }
   ],
   "source": [
    "bar_plot(mixed,total)"
   ]
  },
  {
   "cell_type": "markdown",
   "id": "749ab201-b341-4319-8fc9-1c59e40dfbc7",
   "metadata": {},
   "source": [
    "From the above plot, we can infer that individuals who are young and have a partner are very unlikely to churn"
   ]
  },
  {
   "cell_type": "code",
   "execution_count": 220,
   "id": "95b39338-6167-48c8-ba0a-2bb4acc0aace",
   "metadata": {},
   "outputs": [
    {
     "data": {
      "text/plain": [
       "(Churn\n",
       " No     1872\n",
       " Yes     847\n",
       " Name: count, dtype: int64,\n",
       " 2719)"
      ]
     },
     "execution_count": 220,
     "metadata": {},
     "output_type": "execute_result"
    }
   ],
   "source": [
    "mixed = data_df[(data_df.SeniorCitizen == 0) & (data_df.Partner == 'No') & (data_df.Dependents == 'No')].Churn.value_counts()\n",
    "total = data_df[(data_df.SeniorCitizen == 0) & (data_df.Partner == 'No') & (data_df.Dependents == 'No')].Churn.value_counts().sum()\n",
    "mixed,total"
   ]
  },
  {
   "cell_type": "code",
   "execution_count": 221,
   "id": "66a18d9e-2dae-427f-984f-5902a81bc5ef",
   "metadata": {},
   "outputs": [
    {
     "data": {
      "image/png": "[encoded data removed]",
      "text/plain": [
       "<Figure size 500x400 with 1 Axes>"
      ]
     },
     "metadata": {},
     "output_type": "display_data"
    }
   ],
   "source": [
    "bar_plot(mixed,total)"
   ]
  },
  {
   "cell_type": "markdown",
   "id": "771e2b66-4f7a-4b09-bdcd-7d717a2f98ba",
   "metadata": {},
   "source": [
    "from the above plot, we can infer that individuals without a partner or dependents are also very unlikely to churn."
   ]
  },
  {
   "cell_type": "code",
   "execution_count": 222,
   "id": "059fd57c-d738-40e4-90c5-ef2e124a4e54",
   "metadata": {},
   "outputs": [
    {
     "data": {
      "text/plain": [
       "(Churn\n",
       " No     285\n",
       " Yes    276\n",
       " Name: count, dtype: int64,\n",
       " 561)"
      ]
     },
     "execution_count": 222,
     "metadata": {},
     "output_type": "execute_result"
    }
   ],
   "source": [
    "mixed = data_df[(data_df.SeniorCitizen == 1) & (data_df.Partner == 'No') & (data_df.Dependents == 'No')].Churn.value_counts()\n",
    "total = data_df[(data_df.SeniorCitizen == 1) & (data_df.Partner == 'No') & (data_df.Dependents == 'No')].Churn.value_counts().sum()\n",
    "mixed,total"
   ]
  },
  {
   "cell_type": "code",
   "execution_count": 223,
   "id": "e87db17f-013a-45d4-b678-8583ec3a65c7",
   "metadata": {},
   "outputs": [
    {
     "data": {
      "image/png": "[encoded data removed]",
      "text/plain": [
       "<Figure size 500x400 with 1 Axes>"
      ]
     },
     "metadata": {},
     "output_type": "display_data"
    }
   ],
   "source": [
    "bar_plot(mixed,total)"
   ]
  },
  {
   "cell_type": "markdown",
   "id": "af3492dd-95c1-4508-892e-309c50ffef6a",
   "metadata": {},
   "source": [
    "From the above plot, we can infer that older individuals without a partner or dependents are likely to both churn and not churn equally."
   ]
  },
  {
   "cell_type": "markdown",
   "id": "8d5f517e-fb59-49ff-9639-92f36d4b6b35",
   "metadata": {},
   "source": [
    "#### tenure"
   ]
  },
  {
   "cell_type": "code",
   "execution_count": 224,
   "id": "aed0b8c8-5ee2-4828-b89d-94ab22597523",
   "metadata": {},
   "outputs": [
    {
     "data": {
      "text/plain": [
       "0     1\n",
       "1    34\n",
       "2     2\n",
       "3    45\n",
       "4     2\n",
       "Name: tenure, dtype: int64"
      ]
     },
     "execution_count": 224,
     "metadata": {},
     "output_type": "execute_result"
    }
   ],
   "source": [
    "data_df[\"tenure\"].head()"
   ]
  },
  {
   "cell_type": "code",
   "execution_count": 225,
   "id": "995e7b58-98b6-4189-ad10-172cd4495d0c",
   "metadata": {},
   "outputs": [
    {
     "data": {
      "text/plain": [
       "dtype('int64')"
      ]
     },
     "execution_count": 225,
     "metadata": {},
     "output_type": "execute_result"
    }
   ],
   "source": [
    "data_df[\"tenure\"].dtype"
   ]
  },
  {
   "cell_type": "code",
   "execution_count": 226,
   "id": "5b489923-407f-4bfe-9545-068393313bca",
   "metadata": {},
   "outputs": [
    {
     "data": {
      "text/plain": [
       "tenure\n",
       "1     613\n",
       "72    362\n",
       "2     238\n",
       "3     200\n",
       "4     176\n",
       "     ... \n",
       "28     57\n",
       "39     56\n",
       "44     51\n",
       "36     50\n",
       "0      11\n",
       "Name: count, Length: 73, dtype: int64"
      ]
     },
     "execution_count": 226,
     "metadata": {},
     "output_type": "execute_result"
    }
   ],
   "source": [
    "data_df[\"tenure\"].value_counts()"
   ]
  },
  {
   "cell_type": "code",
   "execution_count": 227,
   "id": "09b0f634-314c-439f-93de-038d29528b59",
   "metadata": {},
   "outputs": [
    {
     "data": {
      "text/plain": [
       "7043"
      ]
     },
     "execution_count": 227,
     "metadata": {},
     "output_type": "execute_result"
    }
   ],
   "source": [
    "data_df[\"tenure\"].value_counts().sum()"
   ]
  },
  {
   "cell_type": "code",
   "execution_count": 228,
   "id": "d3c82076-d0f0-4deb-9eb2-5ed8ae0f3a65",
   "metadata": {},
   "outputs": [
    {
     "data": {
      "text/plain": [
       "(7043,)"
      ]
     },
     "execution_count": 228,
     "metadata": {},
     "output_type": "execute_result"
    }
   ],
   "source": [
    "data_df[\"tenure\"].shape"
   ]
  },
  {
   "cell_type": "code",
   "execution_count": 229,
   "id": "62b260c8-e835-4888-9d17-78af61a6adef",
   "metadata": {},
   "outputs": [
    {
     "data": {
      "text/plain": [
       "0"
      ]
     },
     "execution_count": 229,
     "metadata": {},
     "output_type": "execute_result"
    }
   ],
   "source": [
    "data_df[\"tenure\"].isna().sum()"
   ]
  },
  {
   "cell_type": "markdown",
   "id": "0a2a1f48-5bd7-4c84-8586-267e469cd75a",
   "metadata": {},
   "source": [
    "The tenure column does not contain any missing values."
   ]
  },
  {
   "cell_type": "markdown",
   "id": "c66aff0e-fb95-4e28-aa07-75fa8baabb41",
   "metadata": {},
   "source": [
    "##### Comparing the tenure column with the Churn column"
   ]
  },
  {
   "cell_type": "code",
   "execution_count": 377,
   "id": "2beccd5c-67f3-41e3-8dc2-cfabe1c777aa",
   "metadata": {},
   "outputs": [
    {
     "data": {
      "image/png": "[encoded data removed]",
      "text/plain": [
       "<Figure size 1800x600 with 1 Axes>"
      ]
     },
     "metadata": {},
     "output_type": "display_data"
    }
   ],
   "source": [
    "tenure_counts = data_df.groupby(['tenure', 'Churn']).size().unstack().fillna(0)\n",
    "test = tenure_counts.plot(kind='bar', stacked=True, color=[\"teal\", \"tomato\"], figsize=(18, 6))\n",
    "test.xaxis.set_tick_params(rotation=0)\n",
    "plt.xlabel('Tenure')\n",
    "plt.ylabel('Count')\n",
    "plt.title('Count of Each Tenure Period')\n",
    "plt.show()"
   ]
  },
  {
   "cell_type": "markdown",
   "id": "d15124b8-9453-4bee-8b76-f2060e28e340",
   "metadata": {},
   "source": [
    "As we can see the higher the tenure, the lesser the churn rate. This tells us that the customer becomes loyal with the tenure."
   ]
  },
  {
   "cell_type": "markdown",
   "id": "cefb67e1-40aa-41ba-846f-ac35b255b75f",
   "metadata": {},
   "source": [
    "#### PhoneService"
   ]
  },
  {
   "cell_type": "code",
   "execution_count": 231,
   "id": "cd0423c8-31ab-4ab7-a975-622168cfda5c",
   "metadata": {},
   "outputs": [
    {
     "data": {
      "text/plain": [
       "0     No\n",
       "1    Yes\n",
       "2    Yes\n",
       "3     No\n",
       "4    Yes\n",
       "Name: PhoneService, dtype: object"
      ]
     },
     "execution_count": 231,
     "metadata": {},
     "output_type": "execute_result"
    }
   ],
   "source": [
    "data_df[\"PhoneService\"].head()"
   ]
  },
  {
   "cell_type": "code",
   "execution_count": 232,
   "id": "a9b5ba71-9618-41ac-99da-b3af6eada393",
   "metadata": {},
   "outputs": [
    {
     "data": {
      "text/plain": [
       "dtype('O')"
      ]
     },
     "execution_count": 232,
     "metadata": {},
     "output_type": "execute_result"
    }
   ],
   "source": [
    "data_df[\"PhoneService\"].dtype"
   ]
  },
  {
   "cell_type": "code",
   "execution_count": 233,
   "id": "7c094a9e-96ea-43ca-9db2-bce9d15d7b81",
   "metadata": {},
   "outputs": [
    {
     "data": {
      "text/plain": [
       "PhoneService\n",
       "Yes    6361\n",
       "No      682\n",
       "Name: count, dtype: int64"
      ]
     },
     "execution_count": 233,
     "metadata": {},
     "output_type": "execute_result"
    }
   ],
   "source": [
    "data_df[\"PhoneService\"].value_counts()"
   ]
  },
  {
   "cell_type": "code",
   "execution_count": 234,
   "id": "997a7352-0a00-419b-a90d-57015e19dba7",
   "metadata": {},
   "outputs": [
    {
     "data": {
      "text/plain": [
       "(7043,)"
      ]
     },
     "execution_count": 234,
     "metadata": {},
     "output_type": "execute_result"
    }
   ],
   "source": [
    "data_df[\"PhoneService\"].shape"
   ]
  },
  {
   "cell_type": "code",
   "execution_count": 235,
   "id": "fc672c15-8ac2-4813-9fc8-2b3dac1cf8da",
   "metadata": {},
   "outputs": [
    {
     "data": {
      "text/plain": [
       "0"
      ]
     },
     "execution_count": 235,
     "metadata": {},
     "output_type": "execute_result"
    }
   ],
   "source": [
    "data_df[\"gender\"].isna().sum()"
   ]
  },
  {
   "cell_type": "markdown",
   "id": "828c51f8-e915-48bd-acfd-8e96391e401b",
   "metadata": {},
   "source": [
    "The PhoneService column does not contain any missing values."
   ]
  },
  {
   "cell_type": "markdown",
   "id": "410af00a-07a0-4784-81ce-67729cb76137",
   "metadata": {},
   "source": [
    "##### Comparing the PhoneService column with the Churn column"
   ]
  },
  {
   "cell_type": "code",
   "execution_count": 375,
   "id": "d8683128-ac26-4676-8dfa-58c41b70df87",
   "metadata": {},
   "outputs": [
    {
     "data": {
      "image/png": "[encoded data removed]",
      "text/plain": [
       "<Figure size 500x400 with 1 Axes>"
      ]
     },
     "metadata": {},
     "output_type": "display_data"
    }
   ],
   "source": [
    "stacked_bar_plot(data_df, \"PhoneService\", \"Churn\")"
   ]
  },
  {
   "cell_type": "markdown",
   "id": "fb974a49-5b5f-4fbf-9057-20cb192b3df1",
   "metadata": {},
   "source": [
    "As we can see, phone service does not add value to the model as it exhibits a similar churn rate."
   ]
  },
  {
   "cell_type": "markdown",
   "id": "b7b3475c-cbe7-48bd-a07e-2c601880b327",
   "metadata": {},
   "source": [
    "#### MultipleLines"
   ]
  },
  {
   "cell_type": "code",
   "execution_count": 237,
   "id": "e8edc77b-d843-4696-8550-b89ae43a2be4",
   "metadata": {},
   "outputs": [
    {
     "data": {
      "text/plain": [
       "0    No phone service\n",
       "1                  No\n",
       "2                  No\n",
       "3    No phone service\n",
       "4                  No\n",
       "Name: MultipleLines, dtype: object"
      ]
     },
     "execution_count": 237,
     "metadata": {},
     "output_type": "execute_result"
    }
   ],
   "source": [
    "data_df[\"MultipleLines\"].head()"
   ]
  },
  {
   "cell_type": "code",
   "execution_count": 238,
   "id": "7cbf3830-97aa-42cc-b7a5-d18e9bb6bd57",
   "metadata": {},
   "outputs": [
    {
     "data": {
      "text/plain": [
       "dtype('O')"
      ]
     },
     "execution_count": 238,
     "metadata": {},
     "output_type": "execute_result"
    }
   ],
   "source": [
    "data_df[\"MultipleLines\"].dtype"
   ]
  },
  {
   "cell_type": "code",
   "execution_count": 239,
   "id": "262a90c9-fa1c-4a6a-a22f-becb6ee77c10",
   "metadata": {},
   "outputs": [
    {
     "data": {
      "text/plain": [
       "MultipleLines\n",
       "No                  3390\n",
       "Yes                 2971\n",
       "No phone service     682\n",
       "Name: count, dtype: int64"
      ]
     },
     "execution_count": 239,
     "metadata": {},
     "output_type": "execute_result"
    }
   ],
   "source": [
    "data_df[\"MultipleLines\"].value_counts()"
   ]
  },
  {
   "cell_type": "code",
   "execution_count": 240,
   "id": "f83fa370-b4a5-46f3-8985-93ae6ee5edb5",
   "metadata": {},
   "outputs": [
    {
     "data": {
      "text/plain": [
       "(7043,)"
      ]
     },
     "execution_count": 240,
     "metadata": {},
     "output_type": "execute_result"
    }
   ],
   "source": [
    "data_df[\"MultipleLines\"].shape"
   ]
  },
  {
   "cell_type": "code",
   "execution_count": 241,
   "id": "5a91090e-5f8c-4ba9-a2b9-7b2f417c023c",
   "metadata": {},
   "outputs": [
    {
     "data": {
      "text/plain": [
       "0"
      ]
     },
     "execution_count": 241,
     "metadata": {},
     "output_type": "execute_result"
    }
   ],
   "source": [
    "data_df[\"MultipleLines\"].isna().sum()"
   ]
  },
  {
   "cell_type": "markdown",
   "id": "8829cf1a-686a-4b5d-a1ef-038ba51ec949",
   "metadata": {},
   "source": [
    "The MultipleLines column does not contain any missing values."
   ]
  },
  {
   "cell_type": "markdown",
   "id": "cebba0fb-153e-45fd-8670-44fdd09b0d01",
   "metadata": {},
   "source": [
    "##### Comparing the MultipleLines column with the Churn column"
   ]
  },
  {
   "cell_type": "code",
   "execution_count": 402,
   "id": "e415b87e-4ec7-4157-91a4-d3bd3c5d6a2d",
   "metadata": {},
   "outputs": [],
   "source": [
    "def stacked_bar_plot_lower(df, group, target):\n",
    "\n",
    "    fig, axes = plt.subplots(figsize = (5,4))\n",
    "    alt_df = (df.groupby([group, target]).size()/df.groupby(group)[target].count()).reset_index().pivot(columns=target, index=group, values=0)\n",
    "    alt_df.plot(kind='bar', stacked=True, ax = axes, color = [\"teal\", \"tomato\"])\n",
    "    axes.xaxis.set_tick_params(rotation=0)\n",
    "    axes.set_xlabel(group)\n",
    "    axes.set_ylabel(\"Churn Rate\")\n",
    "    legend = axes.legend(title=target, fontsize='10', loc='lower right')"
   ]
  },
  {
   "cell_type": "code",
   "execution_count": 393,
   "id": "64f385e6-a03b-4c9c-b84d-f2daed722c6e",
   "metadata": {},
   "outputs": [
    {
     "data": {
      "image/png": "[encoded data removed]",
      "text/plain": [
       "<Figure size 500x400 with 1 Axes>"
      ]
     },
     "metadata": {},
     "output_type": "display_data"
    }
   ],
   "source": [
    "stacked_bar_plot_lower(data_df, \"MultipleLines\", \"Churn\")"
   ]
  },
  {
   "cell_type": "markdown",
   "id": "5ad8408a-5ed8-4aa1-a2ea-913350e634ff",
   "metadata": {},
   "source": [
    "The MultipleLines column does not contribute significantly to the model due to the consistent churn rate"
   ]
  },
  {
   "cell_type": "markdown",
   "id": "a7fbcf80-965e-486f-801b-1fad2e01ad02",
   "metadata": {},
   "source": [
    "#### InternetService"
   ]
  },
  {
   "cell_type": "code",
   "execution_count": 244,
   "id": "95448557-3e81-4b72-aacf-a1c6b503377a",
   "metadata": {},
   "outputs": [
    {
     "data": {
      "text/plain": [
       "0            DSL\n",
       "1            DSL\n",
       "2            DSL\n",
       "3            DSL\n",
       "4    Fiber optic\n",
       "Name: InternetService, dtype: object"
      ]
     },
     "execution_count": 244,
     "metadata": {},
     "output_type": "execute_result"
    }
   ],
   "source": [
    "data_df[\"InternetService\"].head()"
   ]
  },
  {
   "cell_type": "code",
   "execution_count": 245,
   "id": "f19da37a-0941-4b3d-b914-2241dcc86ed6",
   "metadata": {},
   "outputs": [
    {
     "data": {
      "text/plain": [
       "dtype('O')"
      ]
     },
     "execution_count": 245,
     "metadata": {},
     "output_type": "execute_result"
    }
   ],
   "source": [
    "data_df[\"InternetService\"].dtype"
   ]
  },
  {
   "cell_type": "code",
   "execution_count": 246,
   "id": "75f28b51-44b3-4682-9a63-ff159d782350",
   "metadata": {},
   "outputs": [
    {
     "data": {
      "text/plain": [
       "InternetService\n",
       "Fiber optic    3096\n",
       "DSL            2421\n",
       "No             1526\n",
       "Name: count, dtype: int64"
      ]
     },
     "execution_count": 246,
     "metadata": {},
     "output_type": "execute_result"
    }
   ],
   "source": [
    "data_df[\"InternetService\"].value_counts()"
   ]
  },
  {
   "cell_type": "code",
   "execution_count": 247,
   "id": "3d93b347-c9de-4e6a-9201-accd98a56a18",
   "metadata": {},
   "outputs": [
    {
     "data": {
      "text/plain": [
       "(7043,)"
      ]
     },
     "execution_count": 247,
     "metadata": {},
     "output_type": "execute_result"
    }
   ],
   "source": [
    "data_df[\"InternetService\"].shape"
   ]
  },
  {
   "cell_type": "code",
   "execution_count": 248,
   "id": "750f1715-df6c-4dbb-964c-3233b3958ba6",
   "metadata": {},
   "outputs": [
    {
     "data": {
      "text/plain": [
       "0"
      ]
     },
     "execution_count": 248,
     "metadata": {},
     "output_type": "execute_result"
    }
   ],
   "source": [
    "data_df[\"InternetService\"].isna().sum()"
   ]
  },
  {
   "cell_type": "markdown",
   "id": "0a8e8880-cc3d-420e-b395-d68d29adf425",
   "metadata": {},
   "source": [
    "The InternetService column does not contain any missing values."
   ]
  },
  {
   "cell_type": "markdown",
   "id": "358c9034-445b-40e1-9481-7a6b3111c6ad",
   "metadata": {},
   "source": [
    "##### Comparing the InternetService column with the Churn column"
   ]
  },
  {
   "cell_type": "code",
   "execution_count": 381,
   "id": "54748bb5-d6f8-4447-917a-2c9f8d52375f",
   "metadata": {},
   "outputs": [
    {
     "data": {
      "image/png": "[encoded data removed]",
      "text/plain": [
       "<Figure size 500x400 with 1 Axes>"
      ]
     },
     "metadata": {},
     "output_type": "display_data"
    }
   ],
   "source": [
    "stacked_bar_plot_lower(data_df, \"InternetService\", \"Churn\")"
   ]
  },
  {
   "cell_type": "markdown",
   "id": "5f4fca14-e1ef-45b6-9c6c-55d0abbcf60c",
   "metadata": {},
   "source": [
    "From the above plot, we can observe that when the internet service is Fiber Optic, the churn rate is very high. This could be attributed to either the higher cost of fiber optic or potential concerns about its quality not meeting the expected standards. Moreover, individuals without internet service have the lowest churn rate, further supporting the possibility of dissatisfaction with the quality or cost of other available options"
   ]
  },
  {
   "cell_type": "markdown",
   "id": "e6a51800-0bf0-4f6a-bcdc-0241bcdaa660",
   "metadata": {},
   "source": [
    "#### \tOnlineSecurity"
   ]
  },
  {
   "cell_type": "code",
   "execution_count": 250,
   "id": "79f4a15e-945d-4b5f-a673-5feb341aedd0",
   "metadata": {},
   "outputs": [
    {
     "data": {
      "text/plain": [
       "0     No\n",
       "1    Yes\n",
       "2    Yes\n",
       "3    Yes\n",
       "4     No\n",
       "Name: OnlineSecurity, dtype: object"
      ]
     },
     "execution_count": 250,
     "metadata": {},
     "output_type": "execute_result"
    }
   ],
   "source": [
    "data_df[\"OnlineSecurity\"].head()"
   ]
  },
  {
   "cell_type": "code",
   "execution_count": 251,
   "id": "15ccd2c0-196d-4c12-a877-a0f5f07af706",
   "metadata": {},
   "outputs": [
    {
     "data": {
      "text/plain": [
       "dtype('O')"
      ]
     },
     "execution_count": 251,
     "metadata": {},
     "output_type": "execute_result"
    }
   ],
   "source": [
    "data_df[\"OnlineSecurity\"].dtype"
   ]
  },
  {
   "cell_type": "code",
   "execution_count": 252,
   "id": "aca307aa-aba9-4c3a-8c90-dc5b4807ca76",
   "metadata": {},
   "outputs": [
    {
     "data": {
      "text/plain": [
       "OnlineSecurity\n",
       "No                     3498\n",
       "Yes                    2019\n",
       "No internet service    1526\n",
       "Name: count, dtype: int64"
      ]
     },
     "execution_count": 252,
     "metadata": {},
     "output_type": "execute_result"
    }
   ],
   "source": [
    "data_df[\"OnlineSecurity\"].value_counts()"
   ]
  },
  {
   "cell_type": "code",
   "execution_count": 253,
   "id": "5afd24aa-4427-4602-80d0-8d7b32d5db9b",
   "metadata": {},
   "outputs": [
    {
     "data": {
      "text/plain": [
       "(7043,)"
      ]
     },
     "execution_count": 253,
     "metadata": {},
     "output_type": "execute_result"
    }
   ],
   "source": [
    "data_df[\"OnlineSecurity\"].shape"
   ]
  },
  {
   "cell_type": "code",
   "execution_count": 254,
   "id": "3a76b91d-67ae-481a-822d-9b804e9b1084",
   "metadata": {},
   "outputs": [
    {
     "data": {
      "text/plain": [
       "0"
      ]
     },
     "execution_count": 254,
     "metadata": {},
     "output_type": "execute_result"
    }
   ],
   "source": [
    "data_df[\"OnlineSecurity\"].isna().sum()"
   ]
  },
  {
   "cell_type": "markdown",
   "id": "01dba514-6380-47dd-ac32-9626af2f60d5",
   "metadata": {},
   "source": [
    "The OnlineSecurity column does not contain any missing values."
   ]
  },
  {
   "cell_type": "markdown",
   "id": "3e9a259e-b212-4a00-99be-062d25ca097b",
   "metadata": {},
   "source": [
    "##### Comparing the OnlineSecurity column with the Churn column"
   ]
  },
  {
   "cell_type": "code",
   "execution_count": 383,
   "id": "df73c3d5-f0e8-4a38-b047-651b261346d7",
   "metadata": {},
   "outputs": [
    {
     "data": {
      "image/png": "[encoded data removed]",
      "text/plain": [
       "<Figure size 500x400 with 1 Axes>"
      ]
     },
     "metadata": {},
     "output_type": "display_data"
    }
   ],
   "source": [
    "stacked_bar_plot_lower(data_df, \"OnlineSecurity\", \"Churn\")"
   ]
  },
  {
   "cell_type": "markdown",
   "id": "f719eadb-754a-41ba-9595-90917d876099",
   "metadata": {},
   "source": [
    "From the above plot, we can observe that when there is no online security, the churn rate is very high."
   ]
  },
  {
   "cell_type": "markdown",
   "id": "01978137-596b-43af-994c-9950fe62b6c1",
   "metadata": {},
   "source": [
    "#### OnlineBackup"
   ]
  },
  {
   "cell_type": "code",
   "execution_count": 256,
   "id": "5e9f7b0d-bd0f-4e72-9fe1-ac9f7cdb9f64",
   "metadata": {},
   "outputs": [
    {
     "data": {
      "text/plain": [
       "0    Yes\n",
       "1     No\n",
       "2    Yes\n",
       "3     No\n",
       "4     No\n",
       "Name: OnlineBackup, dtype: object"
      ]
     },
     "execution_count": 256,
     "metadata": {},
     "output_type": "execute_result"
    }
   ],
   "source": [
    "data_df[\"OnlineBackup\"].head()"
   ]
  },
  {
   "cell_type": "code",
   "execution_count": 257,
   "id": "e0636056-02ff-4289-a136-a07cfaeb1bc7",
   "metadata": {},
   "outputs": [
    {
     "data": {
      "text/plain": [
       "dtype('O')"
      ]
     },
     "execution_count": 257,
     "metadata": {},
     "output_type": "execute_result"
    }
   ],
   "source": [
    "data_df[\"OnlineBackup\"].dtype"
   ]
  },
  {
   "cell_type": "code",
   "execution_count": 258,
   "id": "87fe21b8-32c3-415a-9a0e-507a08d8e12f",
   "metadata": {},
   "outputs": [
    {
     "data": {
      "text/plain": [
       "OnlineBackup\n",
       "No                     3088\n",
       "Yes                    2429\n",
       "No internet service    1526\n",
       "Name: count, dtype: int64"
      ]
     },
     "execution_count": 258,
     "metadata": {},
     "output_type": "execute_result"
    }
   ],
   "source": [
    "data_df[\"OnlineBackup\"].value_counts()"
   ]
  },
  {
   "cell_type": "code",
   "execution_count": 259,
   "id": "f7f22580-7192-457c-8ffa-e564b42f69bc",
   "metadata": {},
   "outputs": [
    {
     "data": {
      "text/plain": [
       "(7043,)"
      ]
     },
     "execution_count": 259,
     "metadata": {},
     "output_type": "execute_result"
    }
   ],
   "source": [
    "data_df[\"OnlineBackup\"].shape"
   ]
  },
  {
   "cell_type": "code",
   "execution_count": 260,
   "id": "2f42dbe8-de4e-4b85-bff4-0d212b35399e",
   "metadata": {},
   "outputs": [
    {
     "data": {
      "text/plain": [
       "0"
      ]
     },
     "execution_count": 260,
     "metadata": {},
     "output_type": "execute_result"
    }
   ],
   "source": [
    "data_df[\"OnlineBackup\"].isna().sum()"
   ]
  },
  {
   "cell_type": "markdown",
   "id": "0a9d32dc-0a8e-4831-81c9-3c40cb63c8ca",
   "metadata": {},
   "source": [
    "The OnlineBackup column does not contain any missing values."
   ]
  },
  {
   "cell_type": "markdown",
   "id": "6f913ae6-4d70-4799-85f7-a67b1a965fd5",
   "metadata": {},
   "source": [
    "##### Comparing the OnlineBackup column with the Churn column"
   ]
  },
  {
   "cell_type": "code",
   "execution_count": 387,
   "id": "692bb60f-138b-4633-98f2-d7ef64bfdf9f",
   "metadata": {},
   "outputs": [
    {
     "data": {
      "image/png": "[encoded data removed]",
      "text/plain": [
       "<Figure size 500x400 with 1 Axes>"
      ]
     },
     "metadata": {},
     "output_type": "display_data"
    }
   ],
   "source": [
    "stacked_bar_plot_lower(data_df, \"OnlineBackup\", \"Churn\")"
   ]
  },
  {
   "cell_type": "markdown",
   "id": "49484f7b-4eb2-473d-ac40-a915347becda",
   "metadata": {},
   "source": [
    "From the above plot, we can observe that when there is no online Backup, the churn rate is very high."
   ]
  },
  {
   "cell_type": "markdown",
   "id": "cb4c6314-0ce7-43c4-b068-98c7ef8710cc",
   "metadata": {},
   "source": [
    "#### DeviceProtection"
   ]
  },
  {
   "cell_type": "code",
   "execution_count": 262,
   "id": "3eacc243-58d6-48f9-9300-0fd1c7ec0006",
   "metadata": {},
   "outputs": [
    {
     "data": {
      "text/plain": [
       "0     No\n",
       "1    Yes\n",
       "2     No\n",
       "3    Yes\n",
       "4     No\n",
       "Name: DeviceProtection, dtype: object"
      ]
     },
     "execution_count": 262,
     "metadata": {},
     "output_type": "execute_result"
    }
   ],
   "source": [
    "data_df[\"DeviceProtection\"].head()"
   ]
  },
  {
   "cell_type": "code",
   "execution_count": 263,
   "id": "c1f92207-0a0c-42af-b620-9218641f18ed",
   "metadata": {},
   "outputs": [
    {
     "data": {
      "text/plain": [
       "dtype('O')"
      ]
     },
     "execution_count": 263,
     "metadata": {},
     "output_type": "execute_result"
    }
   ],
   "source": [
    "data_df[\"DeviceProtection\"].dtype"
   ]
  },
  {
   "cell_type": "code",
   "execution_count": 264,
   "id": "d8c69c7d-c6f8-4143-bac5-5d6ce181574c",
   "metadata": {},
   "outputs": [
    {
     "data": {
      "text/plain": [
       "DeviceProtection\n",
       "No                     3095\n",
       "Yes                    2422\n",
       "No internet service    1526\n",
       "Name: count, dtype: int64"
      ]
     },
     "execution_count": 264,
     "metadata": {},
     "output_type": "execute_result"
    }
   ],
   "source": [
    "data_df[\"DeviceProtection\"].value_counts()"
   ]
  },
  {
   "cell_type": "code",
   "execution_count": 265,
   "id": "c6018165-7a24-4643-ac43-21731fa07c5a",
   "metadata": {},
   "outputs": [
    {
     "data": {
      "text/plain": [
       "(7043,)"
      ]
     },
     "execution_count": 265,
     "metadata": {},
     "output_type": "execute_result"
    }
   ],
   "source": [
    "data_df[\"DeviceProtection\"].shape"
   ]
  },
  {
   "cell_type": "code",
   "execution_count": 266,
   "id": "2f33d6e3-c493-408f-9883-4dd49b79895e",
   "metadata": {},
   "outputs": [
    {
     "data": {
      "text/plain": [
       "0"
      ]
     },
     "execution_count": 266,
     "metadata": {},
     "output_type": "execute_result"
    }
   ],
   "source": [
    "data_df[\"DeviceProtection\"].isna().sum()"
   ]
  },
  {
   "cell_type": "markdown",
   "id": "6906d5cc-ab86-4e9c-b75b-1a7891177acc",
   "metadata": {},
   "source": [
    "The DeviceProtection column does not contain any missing values."
   ]
  },
  {
   "cell_type": "markdown",
   "id": "fad9c042-ee01-4745-9e3b-959f57715f84",
   "metadata": {},
   "source": [
    "##### Comparing the DeviceProtection column with the Churn column"
   ]
  },
  {
   "cell_type": "code",
   "execution_count": 389,
   "id": "ec91f4c4-a8fb-49a1-b5d0-e218ce24a275",
   "metadata": {},
   "outputs": [
    {
     "data": {
      "image/png": "[encoded data removed]",
      "text/plain": [
       "<Figure size 500x400 with 1 Axes>"
      ]
     },
     "metadata": {},
     "output_type": "display_data"
    }
   ],
   "source": [
    "stacked_bar_plot_lower(data_df, \"DeviceProtection\", \"Churn\")"
   ]
  },
  {
   "cell_type": "markdown",
   "id": "bac6b9dd-f77a-4a00-a540-dc091851335a",
   "metadata": {},
   "source": [
    "From the above plot, we can observe that when there is no Device Protection, the churn rate is very high."
   ]
  },
  {
   "cell_type": "markdown",
   "id": "1bb9982a-1636-4e58-bdca-30ab3b699519",
   "metadata": {},
   "source": [
    "#### TechSupport"
   ]
  },
  {
   "cell_type": "code",
   "execution_count": 268,
   "id": "2d5f3474-63b5-49df-817c-29faba51dd4a",
   "metadata": {},
   "outputs": [
    {
     "data": {
      "text/plain": [
       "0     No\n",
       "1     No\n",
       "2     No\n",
       "3    Yes\n",
       "4     No\n",
       "Name: TechSupport, dtype: object"
      ]
     },
     "execution_count": 268,
     "metadata": {},
     "output_type": "execute_result"
    }
   ],
   "source": [
    "data_df[\"TechSupport\"].head()"
   ]
  },
  {
   "cell_type": "code",
   "execution_count": 269,
   "id": "014fc613-dc34-445d-ba49-f15ee25aff0e",
   "metadata": {},
   "outputs": [
    {
     "data": {
      "text/plain": [
       "dtype('O')"
      ]
     },
     "execution_count": 269,
     "metadata": {},
     "output_type": "execute_result"
    }
   ],
   "source": [
    "data_df[\"TechSupport\"].dtype"
   ]
  },
  {
   "cell_type": "code",
   "execution_count": 270,
   "id": "24c1178d-b078-4853-aa52-784e8fff078f",
   "metadata": {},
   "outputs": [
    {
     "data": {
      "text/plain": [
       "TechSupport\n",
       "No                     3473\n",
       "Yes                    2044\n",
       "No internet service    1526\n",
       "Name: count, dtype: int64"
      ]
     },
     "execution_count": 270,
     "metadata": {},
     "output_type": "execute_result"
    }
   ],
   "source": [
    "data_df[\"TechSupport\"].value_counts()"
   ]
  },
  {
   "cell_type": "code",
   "execution_count": 271,
   "id": "361db0e2-2acc-4aa4-99bb-ad9365404aac",
   "metadata": {},
   "outputs": [
    {
     "data": {
      "text/plain": [
       "(7043,)"
      ]
     },
     "execution_count": 271,
     "metadata": {},
     "output_type": "execute_result"
    }
   ],
   "source": [
    "data_df[\"TechSupport\"].shape"
   ]
  },
  {
   "cell_type": "code",
   "execution_count": 272,
   "id": "7e7f050f-1c3b-4861-97bd-ac8a92b2282d",
   "metadata": {},
   "outputs": [
    {
     "data": {
      "text/plain": [
       "0"
      ]
     },
     "execution_count": 272,
     "metadata": {},
     "output_type": "execute_result"
    }
   ],
   "source": [
    "data_df[\"TechSupport\"].isna().sum()"
   ]
  },
  {
   "cell_type": "markdown",
   "id": "36cdc058-8310-446e-964d-70d582b6ec48",
   "metadata": {},
   "source": [
    "The TechSupport column does not contain any missing values."
   ]
  },
  {
   "cell_type": "markdown",
   "id": "35b89560-ade0-42a5-9258-da90cf3e45ab",
   "metadata": {},
   "source": [
    "##### Comparing the TechSupport column with the Churn column"
   ]
  },
  {
   "cell_type": "code",
   "execution_count": 391,
   "id": "f92f3e7f-6dad-4966-ade3-a31f718da976",
   "metadata": {},
   "outputs": [
    {
     "data": {
      "image/png": "[encoded data removed]",
      "text/plain": [
       "<Figure size 500x400 with 1 Axes>"
      ]
     },
     "metadata": {},
     "output_type": "display_data"
    }
   ],
   "source": [
    "stacked_bar_plot_lower(data_df, \"TechSupport\", \"Churn\")"
   ]
  },
  {
   "cell_type": "markdown",
   "id": "c441c2f1-db76-43fc-a519-3e9af100b357",
   "metadata": {},
   "source": [
    "From the above plot, we can observe that when there is no TechSupport, the churn rate is very high."
   ]
  },
  {
   "cell_type": "markdown",
   "id": "b27eb35c-99c5-4ad4-8ca2-29b9a1b3da04",
   "metadata": {},
   "source": [
    "#### StreamingTV"
   ]
  },
  {
   "cell_type": "code",
   "execution_count": 274,
   "id": "7b69ce4d-a110-44c7-bccc-0ce49a76321a",
   "metadata": {},
   "outputs": [
    {
     "data": {
      "text/plain": [
       "0    No\n",
       "1    No\n",
       "2    No\n",
       "3    No\n",
       "4    No\n",
       "Name: StreamingTV, dtype: object"
      ]
     },
     "execution_count": 274,
     "metadata": {},
     "output_type": "execute_result"
    }
   ],
   "source": [
    "data_df[\"StreamingTV\"].head()"
   ]
  },
  {
   "cell_type": "code",
   "execution_count": 275,
   "id": "828183d0-8e1c-4f17-8af4-e64c999fba9b",
   "metadata": {},
   "outputs": [
    {
     "data": {
      "text/plain": [
       "dtype('O')"
      ]
     },
     "execution_count": 275,
     "metadata": {},
     "output_type": "execute_result"
    }
   ],
   "source": [
    "data_df[\"StreamingTV\"].dtype"
   ]
  },
  {
   "cell_type": "code",
   "execution_count": 276,
   "id": "db991870-0523-48b5-b445-6f77cd75770e",
   "metadata": {},
   "outputs": [
    {
     "data": {
      "text/plain": [
       "StreamingTV\n",
       "No                     2810\n",
       "Yes                    2707\n",
       "No internet service    1526\n",
       "Name: count, dtype: int64"
      ]
     },
     "execution_count": 276,
     "metadata": {},
     "output_type": "execute_result"
    }
   ],
   "source": [
    "data_df[\"StreamingTV\"].value_counts()"
   ]
  },
  {
   "cell_type": "code",
   "execution_count": 277,
   "id": "c06d8ad8-fcb1-479c-8aa2-deff8450eb75",
   "metadata": {},
   "outputs": [
    {
     "data": {
      "text/plain": [
       "(7043,)"
      ]
     },
     "execution_count": 277,
     "metadata": {},
     "output_type": "execute_result"
    }
   ],
   "source": [
    "data_df[\"StreamingTV\"].shape"
   ]
  },
  {
   "cell_type": "code",
   "execution_count": 278,
   "id": "d9a41b08-4ed8-40a6-8791-1165aaab9ba2",
   "metadata": {},
   "outputs": [
    {
     "data": {
      "text/plain": [
       "0"
      ]
     },
     "execution_count": 278,
     "metadata": {},
     "output_type": "execute_result"
    }
   ],
   "source": [
    "data_df[\"StreamingTV\"].isna().sum()"
   ]
  },
  {
   "cell_type": "markdown",
   "id": "61c3e8f3-30af-4052-b026-8943e3a45cbf",
   "metadata": {},
   "source": [
    "The StreamingTV column does not contain any missing values."
   ]
  },
  {
   "cell_type": "markdown",
   "id": "a45770b3-bec1-43c8-942f-32ac383add03",
   "metadata": {},
   "source": [
    "##### Comparing the StreamingTV column with the Churn column"
   ]
  },
  {
   "cell_type": "code",
   "execution_count": 395,
   "id": "407371f4-5cc3-4472-9931-9880fbc0637e",
   "metadata": {},
   "outputs": [
    {
     "data": {
      "image/png": "[encoded data removed]",
      "text/plain": [
       "<Figure size 500x400 with 1 Axes>"
      ]
     },
     "metadata": {},
     "output_type": "display_data"
    }
   ],
   "source": [
    "stacked_bar_plot_lower(data_df, \"StreamingTV\", \"Churn\")"
   ]
  },
  {
   "cell_type": "markdown",
   "id": "ec19bf43-2f3b-49e9-b5c7-7ed8ab427778",
   "metadata": {},
   "source": [
    "From the above plot, we can observe that when there is no StreamingTV, the churn rate is very high."
   ]
  },
  {
   "cell_type": "markdown",
   "id": "4cab0890-ef2b-4473-9154-f2e5dc351e7a",
   "metadata": {},
   "source": [
    "#### StreamingMovies"
   ]
  },
  {
   "cell_type": "code",
   "execution_count": 280,
   "id": "719b4a49-0e6d-47de-9c8a-ab70fa5cf385",
   "metadata": {},
   "outputs": [
    {
     "data": {
      "text/plain": [
       "7038    Yes\n",
       "7039    Yes\n",
       "7040     No\n",
       "7041     No\n",
       "7042    Yes\n",
       "Name: StreamingMovies, dtype: object"
      ]
     },
     "execution_count": 280,
     "metadata": {},
     "output_type": "execute_result"
    }
   ],
   "source": [
    "data_df[\"StreamingMovies\"].tail()"
   ]
  },
  {
   "cell_type": "code",
   "execution_count": 281,
   "id": "b659cd6a-0ae2-4389-a60a-a0ea9b050790",
   "metadata": {},
   "outputs": [
    {
     "data": {
      "text/plain": [
       "dtype('O')"
      ]
     },
     "execution_count": 281,
     "metadata": {},
     "output_type": "execute_result"
    }
   ],
   "source": [
    "data_df[\"StreamingMovies\"].dtype"
   ]
  },
  {
   "cell_type": "code",
   "execution_count": 282,
   "id": "55604d54-e0dd-46f0-9bc3-e8c09248b5ad",
   "metadata": {},
   "outputs": [
    {
     "data": {
      "text/plain": [
       "StreamingMovies\n",
       "No                     2785\n",
       "Yes                    2732\n",
       "No internet service    1526\n",
       "Name: count, dtype: int64"
      ]
     },
     "execution_count": 282,
     "metadata": {},
     "output_type": "execute_result"
    }
   ],
   "source": [
    "data_df[\"StreamingMovies\"].value_counts()"
   ]
  },
  {
   "cell_type": "code",
   "execution_count": 283,
   "id": "86a3fea1-baf8-4df3-9a61-8ba67cc0d1b7",
   "metadata": {},
   "outputs": [
    {
     "data": {
      "text/plain": [
       "(7043,)"
      ]
     },
     "execution_count": 283,
     "metadata": {},
     "output_type": "execute_result"
    }
   ],
   "source": [
    "data_df[\"StreamingMovies\"].shape"
   ]
  },
  {
   "cell_type": "code",
   "execution_count": 284,
   "id": "d96c3eca-b477-405b-93e9-9a9175cedba8",
   "metadata": {},
   "outputs": [
    {
     "data": {
      "text/plain": [
       "0"
      ]
     },
     "execution_count": 284,
     "metadata": {},
     "output_type": "execute_result"
    }
   ],
   "source": [
    "data_df[\"StreamingMovies\"].isna().sum()"
   ]
  },
  {
   "cell_type": "markdown",
   "id": "ffe03c58-747e-47df-9a98-b00330d0316d",
   "metadata": {},
   "source": [
    "The StreamingMovies column does not contain any missing values."
   ]
  },
  {
   "cell_type": "markdown",
   "id": "96278d81-fe93-4ba5-9a9d-f7264376bcd8",
   "metadata": {},
   "source": [
    "##### Comparing the StreamingTV column with the Churn column"
   ]
  },
  {
   "cell_type": "code",
   "execution_count": 397,
   "id": "4f570e00-a0c3-4932-b4c2-a76e89811232",
   "metadata": {},
   "outputs": [
    {
     "data": {
      "image/png": "[encoded data removed]",
      "text/plain": [
       "<Figure size 500x400 with 1 Axes>"
      ]
     },
     "metadata": {},
     "output_type": "display_data"
    }
   ],
   "source": [
    "stacked_bar_plot_lower(data_df, \"StreamingMovies\", \"Churn\")"
   ]
  },
  {
   "cell_type": "markdown",
   "id": "2de271a6-401d-45fc-b30e-c9da1d4e853d",
   "metadata": {},
   "source": [
    "From the above plot, we can observe that when there is no StreamingMovies, the churn rate is very high."
   ]
  },
  {
   "cell_type": "code",
   "execution_count": 286,
   "id": "e8daf189-b925-407e-9327-3a9aa65b4dbc",
   "metadata": {},
   "outputs": [
    {
     "data": {
      "text/plain": [
       "1526"
      ]
     },
     "execution_count": 286,
     "metadata": {},
     "output_type": "execute_result"
    }
   ],
   "source": [
    "(data_df.InternetService == 'No').sum()"
   ]
  },
  {
   "cell_type": "code",
   "execution_count": 287,
   "id": "068ec539-5bab-429c-b659-a3e6d5a78aa4",
   "metadata": {},
   "outputs": [
    {
     "data": {
      "text/plain": [
       "1526"
      ]
     },
     "execution_count": 287,
     "metadata": {},
     "output_type": "execute_result"
    }
   ],
   "source": [
    "(data_df.OnlineSecurity == 'No internet service').sum()"
   ]
  },
  {
   "cell_type": "code",
   "execution_count": 288,
   "id": "f9ade677-e0b6-41a9-aa30-9c8432645c88",
   "metadata": {},
   "outputs": [
    {
     "data": {
      "text/plain": [
       "1526"
      ]
     },
     "execution_count": 288,
     "metadata": {},
     "output_type": "execute_result"
    }
   ],
   "source": [
    "(data_df.OnlineBackup == 'No internet service').sum()"
   ]
  },
  {
   "cell_type": "code",
   "execution_count": 289,
   "id": "97871398-f889-4afb-9d0c-242dd7ba5105",
   "metadata": {},
   "outputs": [
    {
     "data": {
      "text/plain": [
       "1526"
      ]
     },
     "execution_count": 289,
     "metadata": {},
     "output_type": "execute_result"
    }
   ],
   "source": [
    "(data_df.DeviceProtection == 'No internet service').sum()"
   ]
  },
  {
   "cell_type": "code",
   "execution_count": 290,
   "id": "c8171fd8-607a-44a7-acc3-5edf4416cf2c",
   "metadata": {},
   "outputs": [
    {
     "data": {
      "text/plain": [
       "1526"
      ]
     },
     "execution_count": 290,
     "metadata": {},
     "output_type": "execute_result"
    }
   ],
   "source": [
    "(data_df.TechSupport == 'No internet service').sum()"
   ]
  },
  {
   "cell_type": "code",
   "execution_count": 291,
   "id": "bfe7acc0-7528-46eb-be48-bcae1792210c",
   "metadata": {},
   "outputs": [
    {
     "data": {
      "text/plain": [
       "1526"
      ]
     },
     "execution_count": 291,
     "metadata": {},
     "output_type": "execute_result"
    }
   ],
   "source": [
    "(data_df.StreamingTV == 'No internet service').sum()"
   ]
  },
  {
   "cell_type": "code",
   "execution_count": 292,
   "id": "a940b2af-b843-4d1b-9e29-848ed1bd3b3d",
   "metadata": {},
   "outputs": [
    {
     "data": {
      "text/plain": [
       "1526"
      ]
     },
     "execution_count": 292,
     "metadata": {},
     "output_type": "execute_result"
    }
   ],
   "source": [
    "(data_df.StreamingMovies == 'No internet service').sum()"
   ]
  },
  {
   "cell_type": "markdown",
   "id": "3c0322ef-7a2a-4ec5-a56b-a5a2ba98fe29",
   "metadata": {},
   "source": [
    "The columns ('InternetService','OnlineSecurity', 'OnlineBackup', 'DeviceProtection', 'TechSupport', 'StreamingTV' and 'StreamingMovies') have the same amount of 'No internet service.' To reduce dependency, we need to either remove or encode these columns"
   ]
  },
  {
   "cell_type": "code",
   "execution_count": 293,
   "id": "4420f998-e821-4ec9-a09b-7862fb6050ff",
   "metadata": {},
   "outputs": [
    {
     "data": {
      "text/html": [
       "<div>\n",
       "<style scoped>\n",
       "    .dataframe tbody tr th:only-of-type {\n",
       "        vertical-align: middle;\n",
       "    }\n",
       "\n",
       "    .dataframe tbody tr th {\n",
       "        vertical-align: top;\n",
       "    }\n",
       "\n",
       "    .dataframe thead th {\n",
       "        text-align: right;\n",
       "    }\n",
       "</style>\n",
       "<table border=\"1\" class=\"dataframe\">\n",
       "  <thead>\n",
       "    <tr style=\"text-align: right;\">\n",
       "      <th></th>\n",
       "      <th>MultipleLines</th>\n",
       "      <th>InternetService</th>\n",
       "      <th>OnlineSecurity</th>\n",
       "      <th>OnlineBackup</th>\n",
       "      <th>DeviceProtection</th>\n",
       "      <th>TechSupport</th>\n",
       "      <th>StreamingTV</th>\n",
       "    </tr>\n",
       "  </thead>\n",
       "  <tbody>\n",
       "    <tr>\n",
       "      <th>11</th>\n",
       "      <td>No</td>\n",
       "      <td>No</td>\n",
       "      <td>No internet service</td>\n",
       "      <td>No internet service</td>\n",
       "      <td>No internet service</td>\n",
       "      <td>No internet service</td>\n",
       "      <td>No internet service</td>\n",
       "    </tr>\n",
       "    <tr>\n",
       "      <th>16</th>\n",
       "      <td>No</td>\n",
       "      <td>No</td>\n",
       "      <td>No internet service</td>\n",
       "      <td>No internet service</td>\n",
       "      <td>No internet service</td>\n",
       "      <td>No internet service</td>\n",
       "      <td>No internet service</td>\n",
       "    </tr>\n",
       "    <tr>\n",
       "      <th>21</th>\n",
       "      <td>No</td>\n",
       "      <td>No</td>\n",
       "      <td>No internet service</td>\n",
       "      <td>No internet service</td>\n",
       "      <td>No internet service</td>\n",
       "      <td>No internet service</td>\n",
       "      <td>No internet service</td>\n",
       "    </tr>\n",
       "    <tr>\n",
       "      <th>22</th>\n",
       "      <td>No</td>\n",
       "      <td>No</td>\n",
       "      <td>No internet service</td>\n",
       "      <td>No internet service</td>\n",
       "      <td>No internet service</td>\n",
       "      <td>No internet service</td>\n",
       "      <td>No internet service</td>\n",
       "    </tr>\n",
       "    <tr>\n",
       "      <th>33</th>\n",
       "      <td>No</td>\n",
       "      <td>No</td>\n",
       "      <td>No internet service</td>\n",
       "      <td>No internet service</td>\n",
       "      <td>No internet service</td>\n",
       "      <td>No internet service</td>\n",
       "      <td>No internet service</td>\n",
       "    </tr>\n",
       "  </tbody>\n",
       "</table>\n",
       "</div>"
      ],
      "text/plain": [
       "   MultipleLines InternetService       OnlineSecurity         OnlineBackup  \\\n",
       "11            No              No  No internet service  No internet service   \n",
       "16            No              No  No internet service  No internet service   \n",
       "21            No              No  No internet service  No internet service   \n",
       "22            No              No  No internet service  No internet service   \n",
       "33            No              No  No internet service  No internet service   \n",
       "\n",
       "       DeviceProtection          TechSupport          StreamingTV  \n",
       "11  No internet service  No internet service  No internet service  \n",
       "16  No internet service  No internet service  No internet service  \n",
       "21  No internet service  No internet service  No internet service  \n",
       "22  No internet service  No internet service  No internet service  \n",
       "33  No internet service  No internet service  No internet service  "
      ]
     },
     "execution_count": 293,
     "metadata": {},
     "output_type": "execute_result"
    }
   ],
   "source": [
    "data_df[data_df['InternetService'] == 'No'].iloc[:, 7:14].head()"
   ]
  },
  {
   "cell_type": "markdown",
   "id": "633e8a49-7630-4de6-9ddc-017f6e2e2ec7",
   "metadata": {},
   "source": [
    "If an individual does not subscribe to internet service, they will also lack access to online security, online backup, device protection, tech support, streaming TV, and streaming movies"
   ]
  },
  {
   "cell_type": "markdown",
   "id": "f49a5741-5800-4c7e-b20c-5afa0c17fed5",
   "metadata": {},
   "source": [
    "#### Contract"
   ]
  },
  {
   "cell_type": "code",
   "execution_count": 294,
   "id": "ea533cc2-d3cf-496f-a995-7e353b60a2e9",
   "metadata": {},
   "outputs": [
    {
     "data": {
      "text/plain": [
       "0    Month-to-month\n",
       "1          One year\n",
       "2    Month-to-month\n",
       "3          One year\n",
       "4    Month-to-month\n",
       "Name: Contract, dtype: object"
      ]
     },
     "execution_count": 294,
     "metadata": {},
     "output_type": "execute_result"
    }
   ],
   "source": [
    "data_df[\"Contract\"].head()"
   ]
  },
  {
   "cell_type": "code",
   "execution_count": 295,
   "id": "30ae842f-15f7-476e-91d5-08f80c488117",
   "metadata": {},
   "outputs": [
    {
     "data": {
      "text/plain": [
       "dtype('O')"
      ]
     },
     "execution_count": 295,
     "metadata": {},
     "output_type": "execute_result"
    }
   ],
   "source": [
    "data_df[\"Contract\"].dtype"
   ]
  },
  {
   "cell_type": "code",
   "execution_count": 296,
   "id": "332e18f2-0ff9-4b60-9c7f-df7e1fb3a6ca",
   "metadata": {},
   "outputs": [
    {
     "data": {
      "text/plain": [
       "Contract\n",
       "Month-to-month    3875\n",
       "Two year          1695\n",
       "One year          1473\n",
       "Name: count, dtype: int64"
      ]
     },
     "execution_count": 296,
     "metadata": {},
     "output_type": "execute_result"
    }
   ],
   "source": [
    "data_df[\"Contract\"].value_counts()"
   ]
  },
  {
   "cell_type": "code",
   "execution_count": 297,
   "id": "33248678-041a-4c6f-bba8-29be6b2697bb",
   "metadata": {},
   "outputs": [
    {
     "data": {
      "text/plain": [
       "(7043,)"
      ]
     },
     "execution_count": 297,
     "metadata": {},
     "output_type": "execute_result"
    }
   ],
   "source": [
    "data_df[\"Contract\"].shape"
   ]
  },
  {
   "cell_type": "code",
   "execution_count": 298,
   "id": "e8dbeacd-c124-4e9f-8c24-a78444dff24a",
   "metadata": {},
   "outputs": [
    {
     "data": {
      "text/plain": [
       "0"
      ]
     },
     "execution_count": 298,
     "metadata": {},
     "output_type": "execute_result"
    }
   ],
   "source": [
    "data_df[\"Contract\"].isna().sum()"
   ]
  },
  {
   "cell_type": "markdown",
   "id": "a4bb2a6f-b871-45c9-a237-b7347aaacaca",
   "metadata": {},
   "source": [
    "The Contract column does not contain any missing values."
   ]
  },
  {
   "cell_type": "markdown",
   "id": "3c0f4244-8f72-43f7-974d-c5a74f1a6637",
   "metadata": {},
   "source": [
    "##### Comparing the Contract column with the Churn column"
   ]
  },
  {
   "cell_type": "code",
   "execution_count": 399,
   "id": "0b706668-50ff-496b-90bf-1cec23a076b8",
   "metadata": {},
   "outputs": [
    {
     "data": {
      "image/png": "[encoded data removed]",
      "text/plain": [
       "<Figure size 500x400 with 1 Axes>"
      ]
     },
     "metadata": {},
     "output_type": "display_data"
    }
   ],
   "source": [
    "stacked_bar_plot_lower(data_df, \"Contract\", \"Churn\")"
   ]
  },
  {
   "cell_type": "markdown",
   "id": "f0a89f58-a748-426f-ac43-79eab58f65f5",
   "metadata": {},
   "source": [
    "From the above plot, it is evident that the month-to-month contract exhibits a high churn rate, while the churn rate decreases with the increase in the contract period."
   ]
  },
  {
   "cell_type": "markdown",
   "id": "d9d0a636-68c9-40fa-bcf8-ab6f29ae61f3",
   "metadata": {},
   "source": [
    "#### PaperlessBilling"
   ]
  },
  {
   "cell_type": "code",
   "execution_count": 300,
   "id": "deeb1ef9-8082-46b3-8af7-12643e7cd25c",
   "metadata": {},
   "outputs": [
    {
     "data": {
      "text/plain": [
       "0    Yes\n",
       "1     No\n",
       "2    Yes\n",
       "3     No\n",
       "4    Yes\n",
       "Name: PaperlessBilling, dtype: object"
      ]
     },
     "execution_count": 300,
     "metadata": {},
     "output_type": "execute_result"
    }
   ],
   "source": [
    "data_df[\"PaperlessBilling\"].head()"
   ]
  },
  {
   "cell_type": "code",
   "execution_count": 301,
   "id": "d706d756-11d1-4a1c-99ae-b3c40a390f5a",
   "metadata": {},
   "outputs": [
    {
     "data": {
      "text/plain": [
       "dtype('O')"
      ]
     },
     "execution_count": 301,
     "metadata": {},
     "output_type": "execute_result"
    }
   ],
   "source": [
    "data_df[\"PaperlessBilling\"].dtype"
   ]
  },
  {
   "cell_type": "code",
   "execution_count": 302,
   "id": "5a178f15-8035-48db-bd67-60af36ccd36e",
   "metadata": {},
   "outputs": [
    {
     "data": {
      "text/plain": [
       "PaperlessBilling\n",
       "Yes    4171\n",
       "No     2872\n",
       "Name: count, dtype: int64"
      ]
     },
     "execution_count": 302,
     "metadata": {},
     "output_type": "execute_result"
    }
   ],
   "source": [
    "data_df[\"PaperlessBilling\"].value_counts()"
   ]
  },
  {
   "cell_type": "code",
   "execution_count": 303,
   "id": "43041e96-d71f-4b13-92ce-e784514cd59d",
   "metadata": {},
   "outputs": [
    {
     "data": {
      "text/plain": [
       "(7043,)"
      ]
     },
     "execution_count": 303,
     "metadata": {},
     "output_type": "execute_result"
    }
   ],
   "source": [
    "data_df[\"PaperlessBilling\"].shape"
   ]
  },
  {
   "cell_type": "code",
   "execution_count": 304,
   "id": "d797f853-1ade-4376-96e5-7afdf1ce0db5",
   "metadata": {},
   "outputs": [
    {
     "data": {
      "text/plain": [
       "0"
      ]
     },
     "execution_count": 304,
     "metadata": {},
     "output_type": "execute_result"
    }
   ],
   "source": [
    "data_df[\"PaperlessBilling\"].isna().sum()"
   ]
  },
  {
   "cell_type": "markdown",
   "id": "eefc538e-b205-48aa-af6d-520ec48a7e30",
   "metadata": {},
   "source": [
    "The PaperlessBilling column does not contain any missing values."
   ]
  },
  {
   "cell_type": "markdown",
   "id": "e697e7b8-a3e4-434a-9315-69e784624aff",
   "metadata": {},
   "source": [
    "##### Comparing the PaperlessBilling column with the Churn column"
   ]
  },
  {
   "cell_type": "code",
   "execution_count": 401,
   "id": "f0ece7f2-c76a-4f5d-b4eb-9209cdcfeffb",
   "metadata": {},
   "outputs": [
    {
     "data": {
      "image/png": "[encoded data removed]",
      "text/plain": [
       "<Figure size 500x400 with 1 Axes>"
      ]
     },
     "metadata": {},
     "output_type": "display_data"
    }
   ],
   "source": [
    "stacked_bar_plot_lower(data_df, \"PaperlessBilling\", \"Churn\")"
   ]
  },
  {
   "cell_type": "markdown",
   "id": "7669d3c0-ed24-4ac1-8d08-a50de0acd314",
   "metadata": {},
   "source": [
    "From the above plot, we can observe that individuals selecting the PaperlessBilling method result in less churn. This might indicate that the service quality of PaperlessBilling is not good enough."
   ]
  },
  {
   "cell_type": "markdown",
   "id": "282d9e6b-d85e-4d61-9644-ba5572becc23",
   "metadata": {},
   "source": [
    "#### PaymentMethod"
   ]
  },
  {
   "cell_type": "code",
   "execution_count": 306,
   "id": "a69a99fe-c91f-4217-97d5-0f824aba5633",
   "metadata": {},
   "outputs": [
    {
     "data": {
      "text/plain": [
       "0             Electronic check\n",
       "1                 Mailed check\n",
       "2                 Mailed check\n",
       "3    Bank transfer (automatic)\n",
       "4             Electronic check\n",
       "Name: PaymentMethod, dtype: object"
      ]
     },
     "execution_count": 306,
     "metadata": {},
     "output_type": "execute_result"
    }
   ],
   "source": [
    "data_df[\"PaymentMethod\"].head()"
   ]
  },
  {
   "cell_type": "code",
   "execution_count": 307,
   "id": "2ebec424-1ab0-4c3c-a78e-6c70c8e2e674",
   "metadata": {},
   "outputs": [
    {
     "data": {
      "text/plain": [
       "dtype('O')"
      ]
     },
     "execution_count": 307,
     "metadata": {},
     "output_type": "execute_result"
    }
   ],
   "source": [
    "data_df[\"PaymentMethod\"].dtype"
   ]
  },
  {
   "cell_type": "code",
   "execution_count": 308,
   "id": "5f7dd8d2-b7f7-4d1a-af64-36dd2a71228c",
   "metadata": {},
   "outputs": [
    {
     "data": {
      "text/plain": [
       "PaymentMethod\n",
       "Electronic check             2365\n",
       "Mailed check                 1612\n",
       "Bank transfer (automatic)    1544\n",
       "Credit card (automatic)      1522\n",
       "Name: count, dtype: int64"
      ]
     },
     "execution_count": 308,
     "metadata": {},
     "output_type": "execute_result"
    }
   ],
   "source": [
    "data_df[\"PaymentMethod\"].value_counts()"
   ]
  },
  {
   "cell_type": "code",
   "execution_count": 309,
   "id": "e8ebc621-3c37-4309-9d5e-97a2fc47382a",
   "metadata": {},
   "outputs": [
    {
     "data": {
      "text/plain": [
       "(7043,)"
      ]
     },
     "execution_count": 309,
     "metadata": {},
     "output_type": "execute_result"
    }
   ],
   "source": [
    "data_df[\"PaymentMethod\"].shape"
   ]
  },
  {
   "cell_type": "code",
   "execution_count": 310,
   "id": "957f3193-e24e-456f-bee1-0d23515fe420",
   "metadata": {},
   "outputs": [
    {
     "data": {
      "text/plain": [
       "0"
      ]
     },
     "execution_count": 310,
     "metadata": {},
     "output_type": "execute_result"
    }
   ],
   "source": [
    "data_df[\"PaymentMethod\"].isna().sum()"
   ]
  },
  {
   "cell_type": "markdown",
   "id": "eccaf084-a46c-4cac-b8eb-f4e78ab0c72f",
   "metadata": {},
   "source": [
    "The PaymentMethod column does not contain any missing values."
   ]
  },
  {
   "cell_type": "markdown",
   "id": "b59b9920-a0bc-4cbd-ac1b-ec632b564c2e",
   "metadata": {},
   "source": [
    "##### Comparing the PaymentMethod column with the Churn column"
   ]
  },
  {
   "cell_type": "code",
   "execution_count": 404,
   "id": "5a9cc4e4-7cdb-40af-b04b-71a11aa71f94",
   "metadata": {},
   "outputs": [
    {
     "data": {
      "image/png": "[encoded data removed]",
      "text/plain": [
       "<Figure size 1000x400 with 1 Axes>"
      ]
     },
     "metadata": {},
     "output_type": "display_data"
    }
   ],
   "source": [
    "df1 = data_df\n",
    "group = \"PaymentMethod\"\n",
    "target = \"Churn\"\n",
    "fig, axes = plt.subplots(figsize = (10,4))\n",
    "alt_df = (df1.groupby([group, target]).size()/df1.groupby(group)[target].count()).reset_index().pivot(columns=target, index=group, values=0)\n",
    "alt_df.plot(kind='bar', stacked=True, ax = axes, color = [\"teal\", \"tomato\"],width = 0.4)\n",
    "axes.xaxis.set_tick_params(rotation=0)\n",
    "axes.set_xlabel(group)\n",
    "axes.set_ylabel(\"Churn Rate\")\n",
    "legend = axes.legend(title=target, fontsize='10', loc='lower right')"
   ]
  },
  {
   "cell_type": "markdown",
   "id": "5aa3a4a7-2ba9-45dc-949a-9d10f0d97653",
   "metadata": {},
   "source": [
    "From the above plot, it is evident that the use of electronic checks is associated with a high churn rate."
   ]
  },
  {
   "cell_type": "markdown",
   "id": "aeb98f51-8073-4407-bf6a-306a0022ffab",
   "metadata": {},
   "source": [
    "##### Comparing the Contract, PaperlessBilling, and PaymentMethod columns with each other"
   ]
  },
  {
   "cell_type": "code",
   "execution_count": 406,
   "id": "b1f3ba8c-e6c0-4ec6-a014-5093583cecd5",
   "metadata": {},
   "outputs": [
    {
     "data": {
      "image/png": "[encoded data removed]",
      "text/plain": [
       "<Figure size 1000x600 with 1 Axes>"
      ]
     },
     "metadata": {},
     "output_type": "display_data"
    }
   ],
   "source": [
    "plt.figure(figsize=(10, 6))\n",
    "sns.countplot(x = data_df['PaperlessBilling'], hue = data_df['Contract']);"
   ]
  },
  {
   "cell_type": "markdown",
   "id": "9db5152c-9181-471d-9ff5-45bf7e094622",
   "metadata": {},
   "source": [
    "From the above graph, it is evident that people with a month-to-month contract predominantly prefer PaperlessBilling."
   ]
  },
  {
   "cell_type": "code",
   "execution_count": 408,
   "id": "68e0a887-2d48-473d-b3dc-dd2b542254e2",
   "metadata": {},
   "outputs": [
    {
     "data": {
      "image/png": "[encoded data removed]",
      "text/plain": [
       "<Figure size 900x400 with 1 Axes>"
      ]
     },
     "metadata": {},
     "output_type": "display_data"
    }
   ],
   "source": [
    "plt.figure(figsize=(9, 4))\n",
    "sns.countplot(x = data_df['PaymentMethod'], hue = data_df['Contract']);"
   ]
  },
  {
   "cell_type": "markdown",
   "id": "207ecd73-984d-49fc-9a66-d6b06eca7636",
   "metadata": {},
   "source": [
    "From the above graph, it is evident that people with a month-to-month contract predominantly prefer paying by electronic check"
   ]
  },
  {
   "cell_type": "markdown",
   "id": "d5dc85a7-ecaf-494d-81c3-caa3afb11869",
   "metadata": {},
   "source": [
    "#### MonthlyCharges"
   ]
  },
  {
   "cell_type": "code",
   "execution_count": 314,
   "id": "8a4c5bb6-34d9-46aa-8870-f356ddd8bd94",
   "metadata": {},
   "outputs": [
    {
     "data": {
      "text/plain": [
       "0    29.85\n",
       "1    56.95\n",
       "2    53.85\n",
       "3    42.30\n",
       "4    70.70\n",
       "Name: MonthlyCharges, dtype: float64"
      ]
     },
     "execution_count": 314,
     "metadata": {},
     "output_type": "execute_result"
    }
   ],
   "source": [
    "data_df[\"MonthlyCharges\"].head()"
   ]
  },
  {
   "cell_type": "code",
   "execution_count": 315,
   "id": "2ea7fef8-2874-40cd-8d51-ca0ca235565a",
   "metadata": {},
   "outputs": [
    {
     "data": {
      "text/plain": [
       "count    7043.000000\n",
       "mean       64.761692\n",
       "std        30.090047\n",
       "min        18.250000\n",
       "25%        35.500000\n",
       "50%        70.350000\n",
       "75%        89.850000\n",
       "max       118.750000\n",
       "Name: MonthlyCharges, dtype: float64"
      ]
     },
     "execution_count": 315,
     "metadata": {},
     "output_type": "execute_result"
    }
   ],
   "source": [
    "data_df[\"MonthlyCharges\"].describe()"
   ]
  },
  {
   "cell_type": "code",
   "execution_count": 316,
   "id": "177d035c-4cb8-4ad8-9c92-d7a1cb199587",
   "metadata": {},
   "outputs": [
    {
     "data": {
      "text/plain": [
       "dtype('float64')"
      ]
     },
     "execution_count": 316,
     "metadata": {},
     "output_type": "execute_result"
    }
   ],
   "source": [
    "data_df[\"MonthlyCharges\"].dtype"
   ]
  },
  {
   "cell_type": "code",
   "execution_count": 317,
   "id": "a7e7672d-66e2-437b-8020-bcd2eeac766c",
   "metadata": {},
   "outputs": [
    {
     "data": {
      "text/plain": [
       "MonthlyCharges\n",
       "20.05     61\n",
       "19.85     45\n",
       "19.95     44\n",
       "19.90     44\n",
       "20.00     43\n",
       "          ..\n",
       "23.65      1\n",
       "114.70     1\n",
       "43.65      1\n",
       "87.80      1\n",
       "78.70      1\n",
       "Name: count, Length: 1585, dtype: int64"
      ]
     },
     "execution_count": 317,
     "metadata": {},
     "output_type": "execute_result"
    }
   ],
   "source": [
    "data_df[\"MonthlyCharges\"].value_counts()"
   ]
  },
  {
   "cell_type": "code",
   "execution_count": 318,
   "id": "c7698da2-b939-4731-945c-f5ae0692f674",
   "metadata": {},
   "outputs": [
    {
     "data": {
      "text/plain": [
       "(7043,)"
      ]
     },
     "execution_count": 318,
     "metadata": {},
     "output_type": "execute_result"
    }
   ],
   "source": [
    "data_df[\"MonthlyCharges\"].shape"
   ]
  },
  {
   "cell_type": "code",
   "execution_count": 319,
   "id": "0650eeab-ea8b-4339-bdb6-cdbe9cd0bdd5",
   "metadata": {},
   "outputs": [
    {
     "data": {
      "text/plain": [
       "0"
      ]
     },
     "execution_count": 319,
     "metadata": {},
     "output_type": "execute_result"
    }
   ],
   "source": [
    "data_df[\"MonthlyCharges\"].isna().sum()"
   ]
  },
  {
   "cell_type": "markdown",
   "id": "f13ca49e-1877-4f8a-84c7-1487c6cf0d91",
   "metadata": {},
   "source": [
    "The MonthlyCharges column does not contain any missing values."
   ]
  },
  {
   "cell_type": "markdown",
   "id": "a4187e5d-d60a-46e1-941c-c22882f8e8b4",
   "metadata": {},
   "source": [
    "##### Comparing the MonthlyCharges column with the Churn column"
   ]
  },
  {
   "cell_type": "code",
   "execution_count": 416,
   "id": "97bf7c28-1299-4041-82c8-7c0dac446e63",
   "metadata": {},
   "outputs": [
    {
     "data": {
      "image/png": "[encoded data removed]",
      "text/plain": [
       "<Figure size 640x480 with 1 Axes>"
      ]
     },
     "metadata": {},
     "output_type": "display_data"
    }
   ],
   "source": [
    "sns.kdeplot(x='MonthlyCharges', hue='Churn', data=data_df, fill=True,common_norm= False,palette = [\"teal\", \"tomato\"])\n",
    "plt.xlabel('Monthly Charges')\n",
    "plt.show()"
   ]
  },
  {
   "cell_type": "markdown",
   "id": "1a46e017-2bb8-4e7c-b28d-2e80c821560a",
   "metadata": {},
   "source": [
    "From the above graph, it is noticeable that customers who pay higher monthly fees are more prone to churn."
   ]
  },
  {
   "cell_type": "markdown",
   "id": "1daf3764-f36f-4eff-864d-78487ee94690",
   "metadata": {},
   "source": [
    "#### TotalCharges"
   ]
  },
  {
   "cell_type": "code",
   "execution_count": 321,
   "id": "047c99ec-5dac-49b5-acd9-6d8423b1617e",
   "metadata": {},
   "outputs": [
    {
     "data": {
      "text/plain": [
       "0      29.85\n",
       "1     1889.5\n",
       "2     108.15\n",
       "3    1840.75\n",
       "4     151.65\n",
       "Name: TotalCharges, dtype: object"
      ]
     },
     "execution_count": 321,
     "metadata": {},
     "output_type": "execute_result"
    }
   ],
   "source": [
    "data_df[\"TotalCharges\"].head()"
   ]
  },
  {
   "cell_type": "code",
   "execution_count": 322,
   "id": "2260d91e-fbe1-4278-a4de-fb3126493f85",
   "metadata": {},
   "outputs": [
    {
     "data": {
      "text/plain": [
       "dtype('O')"
      ]
     },
     "execution_count": 322,
     "metadata": {},
     "output_type": "execute_result"
    }
   ],
   "source": [
    "data_df[\"TotalCharges\"].dtype"
   ]
  },
  {
   "cell_type": "code",
   "execution_count": 323,
   "id": "f31a4e8a-8065-4666-a275-13f30f48eaa2",
   "metadata": {},
   "outputs": [
    {
     "data": {
      "text/plain": [
       "TotalCharges\n",
       "          11\n",
       "20.2      11\n",
       "19.75      9\n",
       "20.05      8\n",
       "19.9       8\n",
       "          ..\n",
       "6849.4     1\n",
       "692.35     1\n",
       "130.15     1\n",
       "3211.9     1\n",
       "6844.5     1\n",
       "Name: count, Length: 6531, dtype: int64"
      ]
     },
     "execution_count": 323,
     "metadata": {},
     "output_type": "execute_result"
    }
   ],
   "source": [
    "data_df[\"TotalCharges\"].value_counts()"
   ]
  },
  {
   "cell_type": "code",
   "execution_count": 324,
   "id": "268387ec-b0f6-42a9-887e-4c8d1c10d32d",
   "metadata": {},
   "outputs": [
    {
     "data": {
      "text/plain": [
       "(7043,)"
      ]
     },
     "execution_count": 324,
     "metadata": {},
     "output_type": "execute_result"
    }
   ],
   "source": [
    "data_df[\"TotalCharges\"].shape"
   ]
  },
  {
   "cell_type": "code",
   "execution_count": 325,
   "id": "eb919636-ee44-4899-bed7-29f96df4d704",
   "metadata": {},
   "outputs": [
    {
     "data": {
      "text/plain": [
       "0"
      ]
     },
     "execution_count": 325,
     "metadata": {},
     "output_type": "execute_result"
    }
   ],
   "source": [
    "data_df[\"TotalCharges\"].isna().sum()"
   ]
  },
  {
   "cell_type": "markdown",
   "id": "d718fa1f-8af3-4b08-a0be-1f516b840284",
   "metadata": {},
   "source": [
    "The TotalCharges column does not contain any missing values."
   ]
  },
  {
   "cell_type": "markdown",
   "id": "4615190a-c822-4b2b-b689-81d2656c41ed",
   "metadata": {},
   "source": [
    "The column is currently classified as an object datatype. To plot graphs, it needs to be converted into float or int."
   ]
  },
  {
   "cell_type": "code",
   "execution_count": 326,
   "id": "432cd6b5-c1fb-4919-b20f-e7e5fbd2f92d",
   "metadata": {},
   "outputs": [],
   "source": [
    "data_df['TotalCharges'] = pd.to_numeric(data_df['TotalCharges'], errors='coerce')"
   ]
  },
  {
   "cell_type": "code",
   "execution_count": 327,
   "id": "ecff52e0-2bf8-4693-b815-0dd546d9a97f",
   "metadata": {},
   "outputs": [
    {
     "data": {
      "text/plain": [
       "0      29.85\n",
       "1    1889.50\n",
       "2     108.15\n",
       "3    1840.75\n",
       "4     151.65\n",
       "Name: TotalCharges, dtype: float64"
      ]
     },
     "execution_count": 327,
     "metadata": {},
     "output_type": "execute_result"
    }
   ],
   "source": [
    "data_df['TotalCharges'].head()"
   ]
  },
  {
   "cell_type": "code",
   "execution_count": 328,
   "id": "ae2e3d42-0d44-4df3-b9b7-cf95f096c044",
   "metadata": {},
   "outputs": [
    {
     "data": {
      "text/plain": [
       "dtype('float64')"
      ]
     },
     "execution_count": 328,
     "metadata": {},
     "output_type": "execute_result"
    }
   ],
   "source": [
    "data_df['TotalCharges'].dtype"
   ]
  },
  {
   "cell_type": "code",
   "execution_count": 329,
   "id": "aa5ed266-2335-453f-ac97-89488f35a201",
   "metadata": {},
   "outputs": [
    {
     "data": {
      "text/plain": [
       "TotalCharges\n",
       "20.20      11\n",
       "19.75       9\n",
       "20.05       8\n",
       "19.90       8\n",
       "19.65       8\n",
       "           ..\n",
       "6849.40     1\n",
       "692.35      1\n",
       "130.15      1\n",
       "3211.90     1\n",
       "6844.50     1\n",
       "Name: count, Length: 6530, dtype: int64"
      ]
     },
     "execution_count": 329,
     "metadata": {},
     "output_type": "execute_result"
    }
   ],
   "source": [
    "data_df['TotalCharges'].value_counts()"
   ]
  },
  {
   "cell_type": "code",
   "execution_count": 330,
   "id": "b7ccae76-7930-4741-8964-6b1ff12d1567",
   "metadata": {},
   "outputs": [
    {
     "data": {
      "text/plain": [
       "(7043,)"
      ]
     },
     "execution_count": 330,
     "metadata": {},
     "output_type": "execute_result"
    }
   ],
   "source": [
    "data_df['TotalCharges'].shape"
   ]
  },
  {
   "cell_type": "code",
   "execution_count": 331,
   "id": "119f350e-a5e3-4a24-8d71-cc3322fec70b",
   "metadata": {},
   "outputs": [
    {
     "data": {
      "text/plain": [
       "11"
      ]
     },
     "execution_count": 331,
     "metadata": {},
     "output_type": "execute_result"
    }
   ],
   "source": [
    "data_df['TotalCharges'].isna().sum()"
   ]
  },
  {
   "cell_type": "markdown",
   "id": "74169ed2-3df2-4050-ba4a-b843969d5393",
   "metadata": {},
   "source": [
    "After converting to float, the column now contains NaN/null values. Previously, it showed no NaN/null values. This discrepancy might be due to incorrect inputs, strange spaces between numbers like ' ', or typos such as '1'2''."
   ]
  },
  {
   "cell_type": "code",
   "execution_count": 332,
   "id": "2482a51f-8743-4f4a-a7eb-2d763e1ae6db",
   "metadata": {},
   "outputs": [
    {
     "data": {
      "text/html": [
       "<div>\n",
       "<style scoped>\n",
       "    .dataframe tbody tr th:only-of-type {\n",
       "        vertical-align: middle;\n",
       "    }\n",
       "\n",
       "    .dataframe tbody tr th {\n",
       "        vertical-align: top;\n",
       "    }\n",
       "\n",
       "    .dataframe thead th {\n",
       "        text-align: right;\n",
       "    }\n",
       "</style>\n",
       "<table border=\"1\" class=\"dataframe\">\n",
       "  <thead>\n",
       "    <tr style=\"text-align: right;\">\n",
       "      <th></th>\n",
       "      <th>customerID</th>\n",
       "      <th>gender</th>\n",
       "      <th>SeniorCitizen</th>\n",
       "      <th>Partner</th>\n",
       "      <th>Dependents</th>\n",
       "      <th>tenure</th>\n",
       "      <th>PhoneService</th>\n",
       "      <th>MultipleLines</th>\n",
       "      <th>InternetService</th>\n",
       "      <th>OnlineSecurity</th>\n",
       "      <th>OnlineBackup</th>\n",
       "      <th>DeviceProtection</th>\n",
       "      <th>TechSupport</th>\n",
       "      <th>StreamingTV</th>\n",
       "      <th>StreamingMovies</th>\n",
       "      <th>Contract</th>\n",
       "      <th>PaperlessBilling</th>\n",
       "      <th>PaymentMethod</th>\n",
       "      <th>MonthlyCharges</th>\n",
       "      <th>TotalCharges</th>\n",
       "      <th>Churn</th>\n",
       "    </tr>\n",
       "  </thead>\n",
       "  <tbody>\n",
       "    <tr>\n",
       "      <th>488</th>\n",
       "      <td>4472-LVYGI</td>\n",
       "      <td>Female</td>\n",
       "      <td>0</td>\n",
       "      <td>Yes</td>\n",
       "      <td>Yes</td>\n",
       "      <td>0</td>\n",
       "      <td>No</td>\n",
       "      <td>No phone service</td>\n",
       "      <td>DSL</td>\n",
       "      <td>Yes</td>\n",
       "      <td>No</td>\n",
       "      <td>Yes</td>\n",
       "      <td>Yes</td>\n",
       "      <td>Yes</td>\n",
       "      <td>No</td>\n",
       "      <td>Two year</td>\n",
       "      <td>Yes</td>\n",
       "      <td>Bank transfer (automatic)</td>\n",
       "      <td>52.55</td>\n",
       "      <td>NaN</td>\n",
       "      <td>No</td>\n",
       "    </tr>\n",
       "    <tr>\n",
       "      <th>753</th>\n",
       "      <td>3115-CZMZD</td>\n",
       "      <td>Male</td>\n",
       "      <td>0</td>\n",
       "      <td>No</td>\n",
       "      <td>Yes</td>\n",
       "      <td>0</td>\n",
       "      <td>Yes</td>\n",
       "      <td>No</td>\n",
       "      <td>No</td>\n",
       "      <td>No internet service</td>\n",
       "      <td>No internet service</td>\n",
       "      <td>No internet service</td>\n",
       "      <td>No internet service</td>\n",
       "      <td>No internet service</td>\n",
       "      <td>No internet service</td>\n",
       "      <td>Two year</td>\n",
       "      <td>No</td>\n",
       "      <td>Mailed check</td>\n",
       "      <td>20.25</td>\n",
       "      <td>NaN</td>\n",
       "      <td>No</td>\n",
       "    </tr>\n",
       "    <tr>\n",
       "      <th>936</th>\n",
       "      <td>5709-LVOEQ</td>\n",
       "      <td>Female</td>\n",
       "      <td>0</td>\n",
       "      <td>Yes</td>\n",
       "      <td>Yes</td>\n",
       "      <td>0</td>\n",
       "      <td>Yes</td>\n",
       "      <td>No</td>\n",
       "      <td>DSL</td>\n",
       "      <td>Yes</td>\n",
       "      <td>Yes</td>\n",
       "      <td>Yes</td>\n",
       "      <td>No</td>\n",
       "      <td>Yes</td>\n",
       "      <td>Yes</td>\n",
       "      <td>Two year</td>\n",
       "      <td>No</td>\n",
       "      <td>Mailed check</td>\n",
       "      <td>80.85</td>\n",
       "      <td>NaN</td>\n",
       "      <td>No</td>\n",
       "    </tr>\n",
       "    <tr>\n",
       "      <th>1082</th>\n",
       "      <td>4367-NUYAO</td>\n",
       "      <td>Male</td>\n",
       "      <td>0</td>\n",
       "      <td>Yes</td>\n",
       "      <td>Yes</td>\n",
       "      <td>0</td>\n",
       "      <td>Yes</td>\n",
       "      <td>Yes</td>\n",
       "      <td>No</td>\n",
       "      <td>No internet service</td>\n",
       "      <td>No internet service</td>\n",
       "      <td>No internet service</td>\n",
       "      <td>No internet service</td>\n",
       "      <td>No internet service</td>\n",
       "      <td>No internet service</td>\n",
       "      <td>Two year</td>\n",
       "      <td>No</td>\n",
       "      <td>Mailed check</td>\n",
       "      <td>25.75</td>\n",
       "      <td>NaN</td>\n",
       "      <td>No</td>\n",
       "    </tr>\n",
       "    <tr>\n",
       "      <th>1340</th>\n",
       "      <td>1371-DWPAZ</td>\n",
       "      <td>Female</td>\n",
       "      <td>0</td>\n",
       "      <td>Yes</td>\n",
       "      <td>Yes</td>\n",
       "      <td>0</td>\n",
       "      <td>No</td>\n",
       "      <td>No phone service</td>\n",
       "      <td>DSL</td>\n",
       "      <td>Yes</td>\n",
       "      <td>Yes</td>\n",
       "      <td>Yes</td>\n",
       "      <td>Yes</td>\n",
       "      <td>Yes</td>\n",
       "      <td>No</td>\n",
       "      <td>Two year</td>\n",
       "      <td>No</td>\n",
       "      <td>Credit card (automatic)</td>\n",
       "      <td>56.05</td>\n",
       "      <td>NaN</td>\n",
       "      <td>No</td>\n",
       "    </tr>\n",
       "  </tbody>\n",
       "</table>\n",
       "</div>"
      ],
      "text/plain": [
       "      customerID  gender  SeniorCitizen Partner Dependents  tenure  \\\n",
       "488   4472-LVYGI  Female              0     Yes        Yes       0   \n",
       "753   3115-CZMZD    Male              0      No        Yes       0   \n",
       "936   5709-LVOEQ  Female              0     Yes        Yes       0   \n",
       "1082  4367-NUYAO    Male              0     Yes        Yes       0   \n",
       "1340  1371-DWPAZ  Female              0     Yes        Yes       0   \n",
       "\n",
       "     PhoneService     MultipleLines InternetService       OnlineSecurity  \\\n",
       "488            No  No phone service             DSL                  Yes   \n",
       "753           Yes                No              No  No internet service   \n",
       "936           Yes                No             DSL                  Yes   \n",
       "1082          Yes               Yes              No  No internet service   \n",
       "1340           No  No phone service             DSL                  Yes   \n",
       "\n",
       "             OnlineBackup     DeviceProtection          TechSupport  \\\n",
       "488                    No                  Yes                  Yes   \n",
       "753   No internet service  No internet service  No internet service   \n",
       "936                   Yes                  Yes                   No   \n",
       "1082  No internet service  No internet service  No internet service   \n",
       "1340                  Yes                  Yes                  Yes   \n",
       "\n",
       "              StreamingTV      StreamingMovies  Contract PaperlessBilling  \\\n",
       "488                   Yes                   No  Two year              Yes   \n",
       "753   No internet service  No internet service  Two year               No   \n",
       "936                   Yes                  Yes  Two year               No   \n",
       "1082  No internet service  No internet service  Two year               No   \n",
       "1340                  Yes                   No  Two year               No   \n",
       "\n",
       "                  PaymentMethod  MonthlyCharges  TotalCharges Churn  \n",
       "488   Bank transfer (automatic)           52.55           NaN    No  \n",
       "753                Mailed check           20.25           NaN    No  \n",
       "936                Mailed check           80.85           NaN    No  \n",
       "1082               Mailed check           25.75           NaN    No  \n",
       "1340    Credit card (automatic)           56.05           NaN    No  "
      ]
     },
     "execution_count": 332,
     "metadata": {},
     "output_type": "execute_result"
    }
   ],
   "source": [
    "data_df[data_df[\"TotalCharges\"].isna()].head()"
   ]
  },
  {
   "cell_type": "code",
   "execution_count": 333,
   "id": "c4e409a6-0478-4264-86ce-65d99f1d3d2d",
   "metadata": {},
   "outputs": [
    {
     "data": {
      "text/plain": [
       "2283.3004408418656"
      ]
     },
     "execution_count": 333,
     "metadata": {},
     "output_type": "execute_result"
    }
   ],
   "source": [
    "data_df[\"TotalCharges\"].mean()"
   ]
  },
  {
   "cell_type": "code",
   "execution_count": 334,
   "id": "0833c715-d119-4b48-a5dd-a38eb0243fa2",
   "metadata": {},
   "outputs": [
    {
     "data": {
      "text/plain": [
       "2646"
      ]
     },
     "execution_count": 334,
     "metadata": {},
     "output_type": "execute_result"
    }
   ],
   "source": [
    "data_df[data_df[\"TotalCharges\"]>2283].shape[0]"
   ]
  },
  {
   "cell_type": "code",
   "execution_count": 335,
   "id": "06010d3e-8756-44b1-9c98-4c2d28628afd",
   "metadata": {},
   "outputs": [],
   "source": [
    "data_df[\"TotalCharges\"] = data_df[\"TotalCharges\"].fillna(data_df[\"TotalCharges\"].mean())"
   ]
  },
  {
   "cell_type": "code",
   "execution_count": 336,
   "id": "d56d315b-ebf0-4e33-9382-73e6a24e3ae2",
   "metadata": {},
   "outputs": [
    {
     "data": {
      "text/plain": [
       "0"
      ]
     },
     "execution_count": 336,
     "metadata": {},
     "output_type": "execute_result"
    }
   ],
   "source": [
    "data_df[\"TotalCharges\"].isna().sum()"
   ]
  },
  {
   "cell_type": "markdown",
   "id": "6462a15f-f619-42b5-b13c-cbbefef5a586",
   "metadata": {},
   "source": [
    "##### Comparing the TotalCharges column with the Churn column"
   ]
  },
  {
   "cell_type": "code",
   "execution_count": 417,
   "id": "4355d7b3-67ce-4865-a8a4-40f239b783d5",
   "metadata": {},
   "outputs": [
    {
     "data": {
      "image/png": "[encoded data removed]",
      "text/plain": [
       "<Figure size 640x480 with 1 Axes>"
      ]
     },
     "metadata": {},
     "output_type": "display_data"
    }
   ],
   "source": [
    "sns.kdeplot(x='TotalCharges', hue='Churn', data=data_df, fill=True,common_norm= False,palette = [\"teal\", \"tomato\"])\n",
    "plt.xlabel('Total Charges')\n",
    "plt.show()"
   ]
  },
  {
   "cell_type": "markdown",
   "id": "c7f56116-20c5-41a7-b755-48940c65cadf",
   "metadata": {},
   "source": [
    "From the above plot it is evident that the density of total charges for churning customers are high around 0. As many customers cancel the subsription in 1-2 months."
   ]
  },
  {
   "cell_type": "markdown",
   "id": "f2b52950-0c43-4d41-be33-f01ba9e2b708",
   "metadata": {},
   "source": [
    "##### Comparing the tenure, MonthlyCharges, and TotalCharges columns with each other"
   ]
  },
  {
   "cell_type": "code",
   "execution_count": 338,
   "id": "06a3712b-ad90-4231-aeef-85a130095908",
   "metadata": {},
   "outputs": [],
   "source": [
    "Total_by_monthly = (data_df[\"MonthlyCharges\"]*data_df[\"tenure\"])"
   ]
  },
  {
   "cell_type": "code",
   "execution_count": 339,
   "id": "009083b7-2d38-4584-95e6-22ad7094170b",
   "metadata": {},
   "outputs": [
    {
     "data": {
      "text/plain": [
       "0         29.85\n",
       "1       1936.30\n",
       "2        107.70\n",
       "3       1903.50\n",
       "4        141.40\n",
       "         ...   \n",
       "7038    2035.20\n",
       "7039    7430.40\n",
       "7040     325.60\n",
       "7041     297.60\n",
       "7042    6972.90\n",
       "Length: 7043, dtype: float64"
      ]
     },
     "execution_count": 339,
     "metadata": {},
     "output_type": "execute_result"
    }
   ],
   "source": [
    "Total_by_monthly"
   ]
  },
  {
   "cell_type": "code",
   "execution_count": 340,
   "id": "121ffc7f-d11d-429f-879a-7684aa7603a5",
   "metadata": {},
   "outputs": [
    {
     "data": {
      "text/plain": [
       "0         29.85\n",
       "1       1889.50\n",
       "2        108.15\n",
       "3       1840.75\n",
       "4        151.65\n",
       "         ...   \n",
       "7038    1990.50\n",
       "7039    7362.90\n",
       "7040     346.45\n",
       "7041     306.60\n",
       "7042    6844.50\n",
       "Name: TotalCharges, Length: 7043, dtype: float64"
      ]
     },
     "execution_count": 340,
     "metadata": {},
     "output_type": "execute_result"
    }
   ],
   "source": [
    "data_df[\"TotalCharges\"]"
   ]
  },
  {
   "cell_type": "code",
   "execution_count": 341,
   "id": "443310b3-9712-4362-a8b5-a099d080a3ce",
   "metadata": {},
   "outputs": [
    {
     "name": "stdout",
     "output_type": "stream",
     "text": [
      "Correlation between Total_by_monthly and TotalCharges: 0.9987673485856693\n"
     ]
    }
   ],
   "source": [
    "correlation = Total_by_monthly.corr(data_df['TotalCharges'])\n",
    "print(f'Correlation between Total_by_monthly and TotalCharges: {correlation}')"
   ]
  },
  {
   "cell_type": "markdown",
   "id": "7d6d3d42-a270-489a-b2fa-7a0bcfc5d9b6",
   "metadata": {},
   "source": [
    "Based on the correlation observed above, the data exhibits stability"
   ]
  },
  {
   "cell_type": "markdown",
   "id": "0769f332-1627-4585-89e2-6473ad9ab418",
   "metadata": {},
   "source": [
    "#### Churn"
   ]
  },
  {
   "cell_type": "code",
   "execution_count": 342,
   "id": "6ca61dc2-4336-42a7-ac6f-c0dbcfccf949",
   "metadata": {},
   "outputs": [
    {
     "data": {
      "text/plain": [
       "0     No\n",
       "1     No\n",
       "2    Yes\n",
       "3     No\n",
       "4    Yes\n",
       "Name: Churn, dtype: object"
      ]
     },
     "execution_count": 342,
     "metadata": {},
     "output_type": "execute_result"
    }
   ],
   "source": [
    "data_df[\"Churn\"].head()"
   ]
  },
  {
   "cell_type": "code",
   "execution_count": 343,
   "id": "be4d805f-6339-48d8-bc9a-13344677c2c7",
   "metadata": {},
   "outputs": [
    {
     "data": {
      "text/plain": [
       "dtype('O')"
      ]
     },
     "execution_count": 343,
     "metadata": {},
     "output_type": "execute_result"
    }
   ],
   "source": [
    "data_df[\"Churn\"].dtype"
   ]
  },
  {
   "cell_type": "code",
   "execution_count": 344,
   "id": "d5a0dba0-70af-4418-ba14-1742f4fdfc77",
   "metadata": {},
   "outputs": [
    {
     "data": {
      "text/plain": [
       "Churn\n",
       "No     5174\n",
       "Yes    1869\n",
       "Name: count, dtype: int64"
      ]
     },
     "execution_count": 344,
     "metadata": {},
     "output_type": "execute_result"
    }
   ],
   "source": [
    "data_df[\"Churn\"].value_counts()"
   ]
  },
  {
   "cell_type": "code",
   "execution_count": 345,
   "id": "46d09e72-097d-4e45-a1e7-fbc2bb8bcdd4",
   "metadata": {},
   "outputs": [
    {
     "data": {
      "text/plain": [
       "(7043,)"
      ]
     },
     "execution_count": 345,
     "metadata": {},
     "output_type": "execute_result"
    }
   ],
   "source": [
    "data_df[\"Churn\"].shape"
   ]
  },
  {
   "cell_type": "code",
   "execution_count": 346,
   "id": "0279dbbb-dd5b-4850-84fa-265a36b3fdb9",
   "metadata": {},
   "outputs": [
    {
     "data": {
      "text/plain": [
       "0"
      ]
     },
     "execution_count": 346,
     "metadata": {},
     "output_type": "execute_result"
    }
   ],
   "source": [
    "data_df[\"Churn\"].isna().sum()"
   ]
  },
  {
   "cell_type": "markdown",
   "id": "1a9a372c-2d0a-459c-9cb5-b9abac28fb94",
   "metadata": {},
   "source": [
    "The Churn column does not contain any missing values."
   ]
  },
  {
   "cell_type": "code",
   "execution_count": 347,
   "id": "2d28d44f-4f54-44e8-b5c0-607d7d0434d8",
   "metadata": {},
   "outputs": [
    {
     "data": {
      "text/plain": [
       "customerID           object\n",
       "gender               object\n",
       "SeniorCitizen         int64\n",
       "Partner              object\n",
       "Dependents           object\n",
       "tenure                int64\n",
       "PhoneService         object\n",
       "MultipleLines        object\n",
       "InternetService      object\n",
       "OnlineSecurity       object\n",
       "OnlineBackup         object\n",
       "DeviceProtection     object\n",
       "TechSupport          object\n",
       "StreamingTV          object\n",
       "StreamingMovies      object\n",
       "Contract             object\n",
       "PaperlessBilling     object\n",
       "PaymentMethod        object\n",
       "MonthlyCharges      float64\n",
       "TotalCharges        float64\n",
       "Churn                object\n",
       "dtype: object"
      ]
     },
     "execution_count": 347,
     "metadata": {},
     "output_type": "execute_result"
    }
   ],
   "source": [
    "data_df.dtypes"
   ]
  },
  {
   "cell_type": "markdown",
   "id": "f5fb294d-b4dc-4ca2-849c-926eaa7afff9",
   "metadata": {},
   "source": [
    "## Function to prepare data for model building based on EDA"
   ]
  },
  {
   "cell_type": "code",
   "execution_count": 348,
   "id": "ab45a68c-0953-4346-8bcd-ba54a3b731f8",
   "metadata": {},
   "outputs": [
    {
     "data": {
      "text/plain": [
       "Index(['customerID', 'gender', 'SeniorCitizen', 'Partner', 'Dependents',\n",
       "       'tenure', 'PhoneService', 'MultipleLines', 'InternetService',\n",
       "       'OnlineSecurity', 'OnlineBackup', 'DeviceProtection', 'TechSupport',\n",
       "       'StreamingTV', 'StreamingMovies', 'Contract', 'PaperlessBilling',\n",
       "       'PaymentMethod', 'MonthlyCharges', 'TotalCharges', 'Churn'],\n",
       "      dtype='object')"
      ]
     },
     "execution_count": 348,
     "metadata": {},
     "output_type": "execute_result"
    }
   ],
   "source": [
    "data_df.columns"
   ]
  },
  {
   "cell_type": "code",
   "execution_count": 349,
   "id": "68c32548-e2cb-4d0a-9294-6fbb6346c06f",
   "metadata": {},
   "outputs": [],
   "source": [
    "def baseline_Model_Preparation(filepath):\n",
    "    '''\n",
    "    This is a straightforward function for minimal data preparation intended for the baseline model.\n",
    "    Parameters:\n",
    "    - filepath (str): The file path of the dataset.\n",
    "\n",
    "    Returns:\n",
    "    - pandas.DataFrame: The prepared DataFrame for the baseline model.\n",
    "    \n",
    "    '''                               \n",
    "    data_df = pd.read_csv(filepath)\n",
    "    \n",
    "    #.1(customerID)\n",
    "    data_df = data_df.drop(\"customerID\",axis = 1)\n",
    "\n",
    "    #.2(gender)\n",
    "    data_df[\"gender\"] = data_df[\"gender\"].map({'Male': 1, 'Female': 0})\n",
    "    \n",
    "    #.3(InternetService)\n",
    "    data_df[\"InternetService\"] = data_df[\"InternetService\"].map({'Fiber optic': 1, 'DSL': 2,'No' : 0})\n",
    "\n",
    "    #.4(MultipleLines)\n",
    "    data_df[\"MultipleLines\"] = data_df[\"MultipleLines\"].map({'Yes': 1, 'No': 0,'No phone service' : 0})\n",
    "\n",
    "    #.5(Contract)\n",
    "    data_df[\"Contract\"] = data_df[\"Contract\"].map({'Month-to-month': 0, 'Two year': 2,'One year' : 1})\n",
    "\n",
    "    #.6(PaymentMethod)\n",
    "    data_df[\"PaymentMethod\"] = data_df[\"PaymentMethod\"].map({'Electronic check': 0, 'Mailed check': 1,'Bank transfer (automatic)' : 2, \n",
    "                                                             'Credit card (automatic)' : 3})\n",
    "\n",
    "    #.7(Partner,Dependents,PhoneService,PaperlessBilling,Churn)\n",
    "    YesNoColumns = [\"Partner\", \"Dependents\", \"PhoneService\", \"PaperlessBilling\", \"Churn\"]\n",
    "    for i in YesNoColumns:\n",
    "        data_df[i] = data_df[i].map({'Yes': 1, 'No': 0})\n",
    "\n",
    "    #.8(OnlineSecurity,OnlineBackup,DeviceProtection,TechSupport,StreamingTV,StreamingMovies)\n",
    "    YesNoServiceColumns = [\"OnlineSecurity\", \"OnlineBackup\", \"DeviceProtection\", \"TechSupport\", \"StreamingTV\",\"StreamingMovies\"]\n",
    "    for i in YesNoServiceColumns:\n",
    "        data_df[i] = data_df[i].map({'Yes': 1, 'No': 0, 'No internet service': 0})\n",
    "\n",
    "    #.9(TotalCharges)\n",
    "    data_df['TotalCharges'] = pd.to_numeric(data_df['TotalCharges'], errors='coerce')\n",
    "    data_df[\"TotalCharges\"] = data_df[\"TotalCharges\"].fillna(data_df[\"TotalCharges\"].mean())\n",
    "        \n",
    "\n",
    "    return data_df"
   ]
  },
  {
   "cell_type": "code",
   "execution_count": 350,
   "id": "3bde33d8-aaaf-4fca-accd-3a809127d352",
   "metadata": {},
   "outputs": [],
   "source": [
    "temp_df = baseline_Model_Preparation(\"TelcoCustomerChurn.csv\")"
   ]
  },
  {
   "cell_type": "code",
   "execution_count": 351,
   "id": "eb04af48-e12e-4c9a-bf36-b45445cfc39b",
   "metadata": {},
   "outputs": [
    {
     "data": {
      "text/plain": [
       "gender                int64\n",
       "SeniorCitizen         int64\n",
       "Partner               int64\n",
       "Dependents            int64\n",
       "tenure                int64\n",
       "PhoneService          int64\n",
       "MultipleLines         int64\n",
       "InternetService       int64\n",
       "OnlineSecurity        int64\n",
       "OnlineBackup          int64\n",
       "DeviceProtection      int64\n",
       "TechSupport           int64\n",
       "StreamingTV           int64\n",
       "StreamingMovies       int64\n",
       "Contract              int64\n",
       "PaperlessBilling      int64\n",
       "PaymentMethod         int64\n",
       "MonthlyCharges      float64\n",
       "TotalCharges        float64\n",
       "Churn                 int64\n",
       "dtype: object"
      ]
     },
     "execution_count": 351,
     "metadata": {},
     "output_type": "execute_result"
    }
   ],
   "source": [
    "temp_df.dtypes"
   ]
  },
  {
   "cell_type": "code",
   "execution_count": null,
   "id": "7d139581-d0db-436c-9950-7e914889f759",
   "metadata": {},
   "outputs": [],
   "source": []
  }
 ],
 "metadata": {
  "kernelspec": {
   "display_name": "Python 3 (ipykernel)",
   "language": "python",
   "name": "python3"
  },
  "language_info": {
   "codemirror_mode": {
    "name": "ipython",
    "version": 3
   },
   "file_extension": ".py",
   "mimetype": "text/x-python",
   "name": "python",
   "nbconvert_exporter": "python",
   "pygments_lexer": "ipython3",
   "version": "3.11.5"
  }
 },
 "nbformat": 4,
 "nbformat_minor": 5
}
